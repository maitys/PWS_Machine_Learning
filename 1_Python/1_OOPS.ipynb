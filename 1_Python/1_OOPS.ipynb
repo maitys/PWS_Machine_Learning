{
 "cells": [
  {
   "cell_type": "markdown",
   "metadata": {},
   "source": [
    "# **<font color='white' face=\"Georgia\" size=\"6\">Feb 5 - OOP**</font>"
   ]
  },
  {
   "cell_type": "code",
   "execution_count": 1,
   "metadata": {},
   "outputs": [],
   "source": [
    "#To show multiple outputs and misc. changes\n",
    "from IPython.core.interactiveshell import InteractiveShell\n",
    "InteractiveShell.ast_node_interactivity = \"all\" # Show all results without print (last_expr)"
   ]
  },
  {
   "cell_type": "code",
   "execution_count": 2,
   "metadata": {},
   "outputs": [
    {
     "name": "stdout",
     "output_type": "stream",
     "text": [
      "<class 'int'>\n",
      "<class 'str'>\n"
     ]
    }
   ],
   "source": [
    "a=1\n",
    "print(type(a))\n",
    "print(type(\"pwskills\"))"
   ]
  },
  {
   "cell_type": "code",
   "execution_count": 3,
   "metadata": {},
   "outputs": [
    {
     "name": "stdout",
     "output_type": "stream",
     "text": [
      "<class '__main__.test'>\n"
     ]
    }
   ],
   "source": [
    "class test:\n",
    "    pass\n",
    "\n",
    "a = test()\n",
    "print(type(a))"
   ]
  },
  {
   "cell_type": "code",
   "execution_count": 4,
   "metadata": {},
   "outputs": [
    {
     "name": "stdout",
     "output_type": "stream",
     "text": [
      "welcome to pwskills\n"
     ]
    },
    {
     "data": {
      "text/plain": [
       "__main__.pwskills"
      ]
     },
     "execution_count": 4,
     "metadata": {},
     "output_type": "execute_result"
    },
    {
     "name": "stdout",
     "output_type": "stream",
     "text": [
      "welcome to pwskills\n"
     ]
    }
   ],
   "source": [
    "class pwskills: # This is a class\n",
    "    \n",
    "    def welcome_msg(self):\n",
    "        print(\"welcome to pwskills\")\n",
    "        \n",
    "rohan = pwskills() # This is an object which is an instance of the class pwskills\n",
    "rohan.welcome_msg() # This is a method of the class pwskills\n",
    "type(rohan)\n",
    "\n",
    "sohan = pwskills()\n",
    "sohan.welcome_msg()"
   ]
  },
  {
   "cell_type": "code",
   "execution_count": 5,
   "metadata": {},
   "outputs": [
    {
     "data": {
      "text/plain": [
       "(1234567890, 'rohan@gmail.com', 123)"
      ]
     },
     "execution_count": 5,
     "metadata": {},
     "output_type": "execute_result"
    },
    {
     "data": {
      "text/plain": [
       "(9876543210, 'sohan@gmail.com', 456)"
      ]
     },
     "execution_count": 5,
     "metadata": {},
     "output_type": "execute_result"
    },
    {
     "data": {
      "text/plain": [
       "1234567890"
      ]
     },
     "execution_count": 5,
     "metadata": {},
     "output_type": "execute_result"
    }
   ],
   "source": [
    "class pwskills1:\n",
    "    \n",
    "    def __init__(self, phone_number, email_id, student_id): # this is a constructor which is used to initialize the object\n",
    "        self.phone_number = phone_number # self is used to refer to the object\n",
    "        self.email_id = email_id\n",
    "        self.student_id = student_id\n",
    "        \n",
    "    def return_student_details(self):\n",
    "        return self.phone_number, self.email_id, self.student_id\n",
    "    \n",
    "rohan = pwskills1(1234567890, \"rohan@gmail.com\", 123)\n",
    "sohan = pwskills1(9876543210, \"sohan@gmail.com\", 456)\n",
    "\n",
    "rohan.return_student_details()\n",
    "sohan.return_student_details()\n",
    "rohan.phone_number"
   ]
  },
  {
   "cell_type": "code",
   "execution_count": 6,
   "metadata": {},
   "outputs": [
    {
     "data": {
      "text/plain": [
       "(1234567890, 'rohan@gmail.com', 123)"
      ]
     },
     "execution_count": 6,
     "metadata": {},
     "output_type": "execute_result"
    },
    {
     "data": {
      "text/plain": [
       "(9876543210, 'sohan@gmail.com', 456)"
      ]
     },
     "execution_count": 6,
     "metadata": {},
     "output_type": "execute_result"
    },
    {
     "data": {
      "text/plain": [
       "1234567890"
      ]
     },
     "execution_count": 6,
     "metadata": {},
     "output_type": "execute_result"
    }
   ],
   "source": [
    "class pwskills1:\n",
    "    \n",
    "    def __init__(self, p, e, s): # this is a constructor which is used to initialize the object\n",
    "        self.phone_number = p # self is used to refer to the object\n",
    "        self.email_id = e\n",
    "        self.student_id = s\n",
    "        \n",
    "    def return_student_details(self):\n",
    "        return self.phone_number, self.email_id, self.student_id\n",
    "    \n",
    "rohan = pwskills1(1234567890, \"rohan@gmail.com\", 123)\n",
    "sohan = pwskills1(9876543210, \"sohan@gmail.com\", 456)\n",
    "\n",
    "rohan.return_student_details()\n",
    "sohan.return_student_details()\n",
    "\n",
    "rohan.phone_number"
   ]
  },
  {
   "cell_type": "code",
   "execution_count": 7,
   "metadata": {},
   "outputs": [
    {
     "data": {
      "text/plain": [
       "(1234567890, 'rohan@gmail.com', 123)"
      ]
     },
     "execution_count": 7,
     "metadata": {},
     "output_type": "execute_result"
    },
    {
     "data": {
      "text/plain": [
       "(9876543210, 'sohan@gmail.com', 456)"
      ]
     },
     "execution_count": 7,
     "metadata": {},
     "output_type": "execute_result"
    },
    {
     "data": {
      "text/plain": [
       "1234567890"
      ]
     },
     "execution_count": 7,
     "metadata": {},
     "output_type": "execute_result"
    }
   ],
   "source": [
    "class pwskills1:\n",
    "    \n",
    "    def __init__(self, phone_number, email_id, student_id): # this is a constructor which is used to initialize the object\n",
    "        self.p = phone_number # self is used to refer to the object\n",
    "        self.e = email_id\n",
    "        self.s = student_id\n",
    "        \n",
    "    def return_student_details(self):\n",
    "        return self.p, self.e, self.s\n",
    "    \n",
    "rohan = pwskills1(1234567890, \"rohan@gmail.com\", 123)\n",
    "sohan = pwskills1(9876543210, \"sohan@gmail.com\", 456)\n",
    "\n",
    "rohan.return_student_details()\n",
    "sohan.return_student_details()\n",
    "rohan.p"
   ]
  },
  {
   "cell_type": "code",
   "execution_count": 8,
   "metadata": {},
   "outputs": [
    {
     "data": {
      "text/plain": [
       "(1234567890, 'rohan@gmail.com', 123)"
      ]
     },
     "execution_count": 8,
     "metadata": {},
     "output_type": "execute_result"
    },
    {
     "data": {
      "text/plain": [
       "(9876543210, 'sohan@gmail.com', 456)"
      ]
     },
     "execution_count": 8,
     "metadata": {},
     "output_type": "execute_result"
    },
    {
     "data": {
      "text/plain": [
       "1234567890"
      ]
     },
     "execution_count": 8,
     "metadata": {},
     "output_type": "execute_result"
    }
   ],
   "source": [
    "class pwskills1:\n",
    "    \n",
    "    def __init__(sidd, phone_number, email_id, student_id): # this is a constructor which is used to initialize the object\n",
    "        sidd.phone_number = phone_number # self is used to refer to the object\n",
    "        sidd.email_id = email_id\n",
    "        sidd.student_id = student_id\n",
    "        \n",
    "    def return_student_details(sidd):\n",
    "        return sidd.phone_number, sidd.email_id, sidd.student_id\n",
    "    \n",
    "rohan = pwskills1(1234567890, \"rohan@gmail.com\", 123)\n",
    "sohan = pwskills1(9876543210, \"sohan@gmail.com\", 456)\n",
    "\n",
    "rohan.return_student_details()\n",
    "sohan.return_student_details()\n",
    "rohan.phone_number"
   ]
  },
  {
   "cell_type": "markdown",
   "metadata": {},
   "source": [
    "# **<font color='white' face=\"Georgia\" size=\"6\">Feb 8 - OOP**</font>"
   ]
  },
  {
   "cell_type": "markdown",
   "metadata": {},
   "source": [
    "# **<font color='forestgreen' face=\"Georgia\" size=\"5\">Polymorphism**</font>"
   ]
  },
  {
   "cell_type": "code",
   "execution_count": 9,
   "metadata": {},
   "outputs": [
    {
     "data": {
      "text/plain": [
       "9"
      ]
     },
     "execution_count": 9,
     "metadata": {},
     "output_type": "execute_result"
    },
    {
     "data": {
      "text/plain": [
       "'siddharth maity'"
      ]
     },
     "execution_count": 9,
     "metadata": {},
     "output_type": "execute_result"
    },
    {
     "data": {
      "text/plain": [
       "[2, 3, 4, 5, 5, 4, 5, 6, 7]"
      ]
     },
     "execution_count": 9,
     "metadata": {},
     "output_type": "execute_result"
    }
   ],
   "source": [
    "# this is a function that exhibits polymorphism as it can take different data types as input \n",
    "# and give different data types as output\n",
    "def test(a,b) :\n",
    "    return a+b\n",
    "\n",
    "test(4,5)\n",
    "test(\"siddharth \" , \"maity\")\n",
    "test([2,3,4,5,5] , [4,5,6,7])"
   ]
  },
  {
   "cell_type": "code",
   "execution_count": 10,
   "metadata": {},
   "outputs": [
    {
     "name": "stdout",
     "output_type": "stream",
     "text": [
      "<__main__.data_science object at 0x00000172563F5010>\n",
      "this is my method for data science syllabus \n",
      "**************************************************\n",
      "<__main__.web_dev object at 0x00000172563F4F90>\n",
      "this is my method for web dev syllabus \n",
      "**************************************************\n"
     ]
    }
   ],
   "source": [
    "class data_science:\n",
    "    def syllabus(self) : \n",
    "        print(\"this is my method for data science syllabus \" )\n",
    "        \n",
    "class web_dev:\n",
    "    def syllabus(self) : \n",
    "        print(\"this is my method for web dev syllabus \" )\n",
    "        \n",
    "def class_parcer(class_obj) : \n",
    "    for i in class_obj:\n",
    "        print(i)\n",
    "        i.syllabus()\n",
    "        print(\"*\"*50)\n",
    "        \n",
    "obj_data_science = data_science()\n",
    "obj_web_dev = web_dev()\n",
    "class_obj = [obj_data_science , obj_web_dev]\n",
    "\n",
    "class_parcer(class_obj)"
   ]
  },
  {
   "cell_type": "markdown",
   "metadata": {},
   "source": [
    "# **<font color='forestgreen' face=\"Georgia\" size=\"5\">Encapsulation**</font>"
   ]
  },
  {
   "cell_type": "code",
   "execution_count": 11,
   "metadata": {},
   "outputs": [
    {
     "data": {
      "text/plain": [
       "45"
      ]
     },
     "execution_count": 11,
     "metadata": {},
     "output_type": "execute_result"
    },
    {
     "data": {
      "text/plain": [
       "56"
      ]
     },
     "execution_count": 11,
     "metadata": {},
     "output_type": "execute_result"
    }
   ],
   "source": [
    "class test : \n",
    "    def __init__(self , a,b ) : \n",
    "        self.a = a \n",
    "        self.b = b\n",
    "        \n",
    "t = test(45,56)\n",
    "t.a\n",
    "t.b"
   ]
  },
  {
   "cell_type": "code",
   "execution_count": 12,
   "metadata": {},
   "outputs": [
    {
     "data": {
      "text/plain": [
       "101"
      ]
     },
     "execution_count": 12,
     "metadata": {},
     "output_type": "execute_result"
    },
    {
     "data": {
      "text/plain": [
       "0"
      ]
     },
     "execution_count": 12,
     "metadata": {},
     "output_type": "execute_result"
    },
    {
     "data": {
      "text/plain": [
       "3453"
      ]
     },
     "execution_count": 12,
     "metadata": {},
     "output_type": "execute_result"
    },
    {
     "name": "stdout",
     "output_type": "stream",
     "text": [
      "**************************************************\n"
     ]
    },
    {
     "data": {
      "text/plain": [
       "2023"
      ]
     },
     "execution_count": 12,
     "metadata": {},
     "output_type": "execute_result"
    },
    {
     "data": {
      "text/plain": [
       "<__main__.car at 0x172563f6110>"
      ]
     },
     "execution_count": 12,
     "metadata": {},
     "output_type": "execute_result"
    }
   ],
   "source": [
    "class car:\n",
    "    \n",
    "    def __init__(self , year , make , model) :\n",
    "        self.__year = year \n",
    "        self.__make = make\n",
    "        self.__model = model\n",
    "        self.__speed = 101 \n",
    "    \n",
    "    def set_speed(self , speed) : \n",
    "        self.__speed = 0 if speed < 0 else speed \n",
    "    \n",
    "    def get_speed(self) : \n",
    "        return self.__speed\n",
    "    \n",
    "obj_car = car(2019 , \"honda\" , \"civic\" )\n",
    "obj_car.get_speed()\n",
    "obj_car.set_speed(-1234)\n",
    "obj_car.get_speed()\n",
    "obj_car.set_speed(3453)\n",
    "obj_car.get_speed()\n",
    "print(\"*\"*50)\n",
    "\n",
    "obj_car._car__year = 2023\n",
    "obj_car._car__year\n",
    "obj_car"
   ]
  },
  {
   "cell_type": "code",
   "execution_count": 13,
   "metadata": {},
   "outputs": [],
   "source": [
    "class bank_acount:\n",
    "    \n",
    "    def __init__(self , balance ):\n",
    "        self.__balance = balance\n",
    "    \n",
    "    def deposit(self , amount ) :\n",
    "        self.__balance = self.__balance + amount\n",
    "    \n",
    "    def withdraw(self , amount) : \n",
    "        if self.__balance >= amount : \n",
    "            self.__balance = self.__balance -amount\n",
    "            return \"withdrawal successful. your balance is \" + str(self.__balance) + \" rupees\"\n",
    "        else : \n",
    "            return \"insufficient balance. your balance is \" + str(self.__balance) + \" rupees\"\n",
    "        \n",
    "    def get_balance(self) : \n",
    "        return self.__balance"
   ]
  },
  {
   "cell_type": "code",
   "execution_count": 14,
   "metadata": {},
   "outputs": [
    {
     "data": {
      "text/plain": [
       "1000"
      ]
     },
     "execution_count": 14,
     "metadata": {},
     "output_type": "execute_result"
    },
    {
     "name": "stdout",
     "output_type": "stream",
     "text": [
      "**************************************************\n"
     ]
    },
    {
     "data": {
      "text/plain": [
       "7000"
      ]
     },
     "execution_count": 14,
     "metadata": {},
     "output_type": "execute_result"
    },
    {
     "name": "stdout",
     "output_type": "stream",
     "text": [
      "**************************************************\n"
     ]
    },
    {
     "data": {
      "text/plain": [
       "'insufficient balance. your balance is 7000 rupees'"
      ]
     },
     "execution_count": 14,
     "metadata": {},
     "output_type": "execute_result"
    },
    {
     "data": {
      "text/plain": [
       "'withdrawal successful. your balance is 5000 rupees'"
      ]
     },
     "execution_count": 14,
     "metadata": {},
     "output_type": "execute_result"
    },
    {
     "data": {
      "text/plain": [
       "5000"
      ]
     },
     "execution_count": 14,
     "metadata": {},
     "output_type": "execute_result"
    },
    {
     "name": "stdout",
     "output_type": "stream",
     "text": [
      "**************************************************\n"
     ]
    }
   ],
   "source": [
    "obj_bank_account = bank_acount(1000)\n",
    "obj_bank_account.get_balance()\n",
    "print(\"*\"*50)\n",
    "\n",
    "obj_bank_account.deposit(6000)\n",
    "obj_bank_account.get_balance()\n",
    "print(\"*\"*50)\n",
    "\n",
    "obj_bank_account.withdraw(10000)\n",
    "obj_bank_account.withdraw(2000)\n",
    "obj_bank_account.get_balance()\n",
    "print(\"*\"*50)"
   ]
  },
  {
   "cell_type": "markdown",
   "metadata": {},
   "source": [
    "# **<font color='forestgreen' face=\"Georgia\" size=\"5\">Inheritance**</font>"
   ]
  },
  {
   "cell_type": "code",
   "execution_count": 15,
   "metadata": {},
   "outputs": [
    {
     "name": "stdout",
     "output_type": "stream",
     "text": [
      "this is my parent class\n"
     ]
    }
   ],
   "source": [
    "class parent:\n",
    "    def test_parent(self) : \n",
    "        print(\"this is my parent class\")\n",
    "        \n",
    "class child(parent):\n",
    "    pass\n",
    "\n",
    "obj_child = child()\n",
    "obj_child.test_parent()"
   ]
  },
  {
   "cell_type": "code",
   "execution_count": 16,
   "metadata": {},
   "outputs": [
    {
     "name": "stdout",
     "output_type": "stream",
     "text": [
      "this is my class1\n",
      "this is my class2\n",
      "this is my class3\n"
     ]
    }
   ],
   "source": [
    "class class1 :\n",
    "    def test_class1(self) : \n",
    "        print(\"this is my class1\")\n",
    "        \n",
    "class class2(class1) : \n",
    "    def test_class2(self) : \n",
    "        print(\"this is my class2\")\n",
    "        \n",
    "class class3(class2) : \n",
    "    def test_class3(self) : \n",
    "        print(\"this is my class3\")\n",
    "        \n",
    "obj_class3 = class3()\n",
    "obj_class3.test_class1()\n",
    "obj_class3.test_class2()\n",
    "obj_class3.test_class3()"
   ]
  },
  {
   "cell_type": "code",
   "execution_count": 17,
   "metadata": {},
   "outputs": [
    {
     "name": "stdout",
     "output_type": "stream",
     "text": [
      "this is my class1\n",
      "this is my class2\n"
     ]
    }
   ],
   "source": [
    "class class1 :\n",
    "    def test_class1(self) : \n",
    "        print(\"this is my class1\")\n",
    "        \n",
    "class class2 :\n",
    "    def test_class2(self) : \n",
    "        print(\"this is my class2\")\n",
    "        \n",
    "class class3(class1 , class2):\n",
    "    pass\n",
    "\n",
    "obj_class3 = class3()\n",
    "obj_class3.test_class1()\n",
    "obj_class3.test_class2()"
   ]
  },
  {
   "cell_type": "markdown",
   "metadata": {},
   "source": [
    "# **<font color='forestgreen' face=\"Georgia\" size=\"5\">Abstraction**</font>"
   ]
  },
  {
   "cell_type": "code",
   "execution_count": 18,
   "metadata": {},
   "outputs": [],
   "source": [
    "import abc\n",
    "\n",
    "class pwskills :\n",
    "    \n",
    "    @abc.abstractmethod\n",
    "    def student_details(self):\n",
    "        pass\n",
    "    \n",
    "    @abc.abstractmethod\n",
    "    def student_assignment(self):\n",
    "        pass\n",
    "    \n",
    "    @abc.abstractmethod\n",
    "    def student_marks(self):\n",
    "        pass"
   ]
  },
  {
   "cell_type": "code",
   "execution_count": 19,
   "metadata": {},
   "outputs": [],
   "source": [
    "class data_science(pwskills):\n",
    "    \n",
    "    def student_details(self):\n",
    "        return \"it will return details of student for data science masters\"\n",
    "    \n",
    "    def student_assignment(self):\n",
    "        return \"it will return assignment of student for data science masters\"\n",
    "    \n",
    "    def student_marks(self):\n",
    "        return \"it will return marks of student for data science masters\"\n",
    "\n",
    "class web_dev(pwskills):\n",
    "        \n",
    "        def student_details(self):\n",
    "            return \"it will return details of student for web dev masters\"\n",
    "        \n",
    "        def student_assignment(self):\n",
    "            return \"it will return assignment of student for web dev masters\"\n",
    "        \n",
    "        def student_marks(self):\n",
    "            return \"it will return marks of student for web dev masters\""
   ]
  },
  {
   "cell_type": "code",
   "execution_count": 20,
   "metadata": {},
   "outputs": [
    {
     "data": {
      "text/plain": [
       "'it will return details of student for data science masters'"
      ]
     },
     "execution_count": 20,
     "metadata": {},
     "output_type": "execute_result"
    },
    {
     "data": {
      "text/plain": [
       "'it will return assignment of student for data science masters'"
      ]
     },
     "execution_count": 20,
     "metadata": {},
     "output_type": "execute_result"
    },
    {
     "data": {
      "text/plain": [
       "'it will return marks of student for data science masters'"
      ]
     },
     "execution_count": 20,
     "metadata": {},
     "output_type": "execute_result"
    },
    {
     "name": "stdout",
     "output_type": "stream",
     "text": [
      "**************************************************\n"
     ]
    },
    {
     "data": {
      "text/plain": [
       "'it will return details of student for web dev masters'"
      ]
     },
     "execution_count": 20,
     "metadata": {},
     "output_type": "execute_result"
    },
    {
     "data": {
      "text/plain": [
       "'it will return assignment of student for web dev masters'"
      ]
     },
     "execution_count": 20,
     "metadata": {},
     "output_type": "execute_result"
    },
    {
     "data": {
      "text/plain": [
       "'it will return marks of student for web dev masters'"
      ]
     },
     "execution_count": 20,
     "metadata": {},
     "output_type": "execute_result"
    }
   ],
   "source": [
    "obj_data_science = data_science()\n",
    "obj_web_dev = web_dev()\n",
    "\n",
    "obj_data_science.student_details()\n",
    "obj_data_science.student_assignment()\n",
    "obj_data_science.student_marks()\n",
    "print(\"*\"*50)\n",
    "\n",
    "obj_web_dev.student_details()\n",
    "obj_web_dev.student_assignment()\n",
    "obj_web_dev.student_marks()"
   ]
  },
  {
   "cell_type": "code",
   "execution_count": 21,
   "metadata": {},
   "outputs": [
    {
     "name": "stdout",
     "output_type": "stream",
     "text": [
      "Toyota Camry car's engine started.\n",
      "Toyota Camry car's engine stopped.\n",
      "Honda CBR 600 motorcycle's engine started.\n",
      "Honda CBR 600 motorcycle's engine stopped.\n"
     ]
    }
   ],
   "source": [
    "# Base class for Vehicle\n",
    "class Vehicle:\n",
    "    def __init__(self, make, model):\n",
    "        self.make = make\n",
    "        self.model = model\n",
    "\n",
    "    def start_engine(self):\n",
    "        pass  # Abstract method\n",
    "\n",
    "    def stop_engine(self):\n",
    "        pass  # Abstract method\n",
    "\n",
    "# Subclass Car, inheriting from Vehicle\n",
    "class Car(Vehicle):\n",
    "    def start_engine(self):\n",
    "        print(f\"{self.make} {self.model} car's engine started.\")\n",
    "\n",
    "    def stop_engine(self):\n",
    "        print(f\"{self.make} {self.model} car's engine stopped.\")\n",
    "\n",
    "# Subclass Motorcycle, inheriting from Vehicle\n",
    "class Motorcycle(Vehicle):\n",
    "    def start_engine(self):\n",
    "        print(f\"{self.make} {self.model} motorcycle's engine started.\")\n",
    "\n",
    "    def stop_engine(self):\n",
    "        print(f\"{self.make} {self.model} motorcycle's engine stopped.\")\n",
    "\n",
    "# Create instances of Car and Motorcycle\n",
    "car1 = Car(\"Toyota\", \"Camry\")\n",
    "motorcycle1 = Motorcycle(\"Honda\", \"CBR 600\")\n",
    "\n",
    "# Use the objects\n",
    "car1.start_engine()\n",
    "car1.stop_engine()\n",
    "\n",
    "motorcycle1.start_engine()\n",
    "motorcycle1.stop_engine()\n"
   ]
  },
  {
   "cell_type": "code",
   "execution_count": 22,
   "metadata": {},
   "outputs": [
    {
     "name": "stdout",
     "output_type": "stream",
     "text": [
      "Toyota Camry car's engine started.\n",
      "Toyota Camry car's engine stopped.\n",
      "Honda CBR 600 motorcycle's engine started.\n",
      "Honda CBR 600 motorcycle's engine stopped.\n"
     ]
    }
   ],
   "source": [
    "# Create a list of vehicles\n",
    "vehicles = [car1, motorcycle1]\n",
    "\n",
    "# Iterate through the list and start/stop the engines\n",
    "for vehicle in vehicles:\n",
    "    vehicle.start_engine()\n",
    "    vehicle.stop_engine()"
   ]
  },
  {
   "cell_type": "code",
   "execution_count": null,
   "metadata": {},
   "outputs": [],
   "source": []
  }
 ],
 "metadata": {
  "kernelspec": {
   "display_name": "env1_311",
   "language": "python",
   "name": "python3"
  },
  "language_info": {
   "codemirror_mode": {
    "name": "ipython",
    "version": 3
   },
   "file_extension": ".py",
   "mimetype": "text/x-python",
   "name": "python",
   "nbconvert_exporter": "python",
   "pygments_lexer": "ipython3",
   "version": "3.11.5"
  }
 },
 "nbformat": 4,
 "nbformat_minor": 2
}
