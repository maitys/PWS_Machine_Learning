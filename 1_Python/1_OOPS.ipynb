{
 "cells": [
  {
   "cell_type": "markdown",
   "metadata": {},
   "source": [
    "# **<font color='white' face=\"Georgia\" size=\"6\">Feb 5 - OOP**</font>"
   ]
  },
  {
   "cell_type": "code",
   "execution_count": 1,
   "metadata": {},
   "outputs": [],
   "source": [
    "#To show multiple outputs and misc. changes\n",
    "from IPython.core.interactiveshell import InteractiveShell\n",
    "InteractiveShell.ast_node_interactivity = \"all\" # Show all results without print (last_expr)"
   ]
  },
  {
   "cell_type": "code",
   "execution_count": 2,
   "metadata": {},
   "outputs": [
    {
     "name": "stdout",
     "output_type": "stream",
     "text": [
      "<class 'int'>\n",
      "<class 'str'>\n"
     ]
    }
   ],
   "source": [
    "a=1\n",
    "print(type(a))\n",
    "print(type(\"pwskills\"))"
   ]
  },
  {
   "cell_type": "code",
   "execution_count": 3,
   "metadata": {},
   "outputs": [
    {
     "name": "stdout",
     "output_type": "stream",
     "text": [
      "<class '__main__.test'>\n"
     ]
    }
   ],
   "source": [
    "class test:\n",
    "    pass\n",
    "\n",
    "a = test()\n",
    "print(type(a))"
   ]
  },
  {
   "cell_type": "code",
   "execution_count": 4,
   "metadata": {},
   "outputs": [
    {
     "name": "stdout",
     "output_type": "stream",
     "text": [
      "welcome to pwskills\n"
     ]
    },
    {
     "data": {
      "text/plain": [
       "__main__.pwskills"
      ]
     },
     "execution_count": 4,
     "metadata": {},
     "output_type": "execute_result"
    },
    {
     "name": "stdout",
     "output_type": "stream",
     "text": [
      "welcome to pwskills\n"
     ]
    }
   ],
   "source": [
    "class pwskills: # This is a class\n",
    "    \n",
    "    def welcome_msg(self):\n",
    "        print(\"welcome to pwskills\")\n",
    "        \n",
    "rohan = pwskills() # This is an object which is an instance of the class pwskills\n",
    "rohan.welcome_msg() # This is a method of the class pwskills\n",
    "type(rohan)\n",
    "\n",
    "sohan = pwskills()\n",
    "sohan.welcome_msg()"
   ]
  },
  {
   "cell_type": "code",
   "execution_count": 5,
   "metadata": {},
   "outputs": [
    {
     "data": {
      "text/plain": [
       "(1234567890, 'rohan@gmail.com', 123)"
      ]
     },
     "execution_count": 5,
     "metadata": {},
     "output_type": "execute_result"
    },
    {
     "data": {
      "text/plain": [
       "(9876543210, 'sohan@gmail.com', 456)"
      ]
     },
     "execution_count": 5,
     "metadata": {},
     "output_type": "execute_result"
    },
    {
     "data": {
      "text/plain": [
       "1234567890"
      ]
     },
     "execution_count": 5,
     "metadata": {},
     "output_type": "execute_result"
    }
   ],
   "source": [
    "class pwskills1:\n",
    "    \n",
    "    def __init__(self, phone_number, email_id, student_id): # this is a constructor which is used to initialize the object\n",
    "        self.phone_number = phone_number # self is used to refer to the object\n",
    "        self.email_id = email_id\n",
    "        self.student_id = student_id\n",
    "        \n",
    "    def return_student_details(self):\n",
    "        return self.phone_number, self.email_id, self.student_id\n",
    "    \n",
    "rohan = pwskills1(1234567890, \"rohan@gmail.com\", 123)\n",
    "sohan = pwskills1(9876543210, \"sohan@gmail.com\", 456)\n",
    "\n",
    "rohan.return_student_details()\n",
    "sohan.return_student_details()\n",
    "rohan.phone_number"
   ]
  },
  {
   "cell_type": "code",
   "execution_count": 6,
   "metadata": {},
   "outputs": [
    {
     "data": {
      "text/plain": [
       "(1234567890, 'rohan@gmail.com', 123)"
      ]
     },
     "execution_count": 6,
     "metadata": {},
     "output_type": "execute_result"
    },
    {
     "data": {
      "text/plain": [
       "(9876543210, 'sohan@gmail.com', 456)"
      ]
     },
     "execution_count": 6,
     "metadata": {},
     "output_type": "execute_result"
    },
    {
     "data": {
      "text/plain": [
       "1234567890"
      ]
     },
     "execution_count": 6,
     "metadata": {},
     "output_type": "execute_result"
    }
   ],
   "source": [
    "class pwskills1:\n",
    "    \n",
    "    def __init__(self, p, e, s): # this is a constructor which is used to initialize the object\n",
    "        self.phone_number = p # self is used to refer to the object\n",
    "        self.email_id = e\n",
    "        self.student_id = s\n",
    "        \n",
    "    def return_student_details(self):\n",
    "        return self.phone_number, self.email_id, self.student_id\n",
    "    \n",
    "rohan = pwskills1(1234567890, \"rohan@gmail.com\", 123)\n",
    "sohan = pwskills1(9876543210, \"sohan@gmail.com\", 456)\n",
    "\n",
    "rohan.return_student_details()\n",
    "sohan.return_student_details()\n",
    "\n",
    "rohan.phone_number"
   ]
  },
  {
   "cell_type": "code",
   "execution_count": 7,
   "metadata": {},
   "outputs": [
    {
     "data": {
      "text/plain": [
       "(1234567890, 'rohan@gmail.com', 123)"
      ]
     },
     "execution_count": 7,
     "metadata": {},
     "output_type": "execute_result"
    },
    {
     "data": {
      "text/plain": [
       "(9876543210, 'sohan@gmail.com', 456)"
      ]
     },
     "execution_count": 7,
     "metadata": {},
     "output_type": "execute_result"
    },
    {
     "data": {
      "text/plain": [
       "1234567890"
      ]
     },
     "execution_count": 7,
     "metadata": {},
     "output_type": "execute_result"
    }
   ],
   "source": [
    "class pwskills1:\n",
    "    \n",
    "    def __init__(self, phone_number, email_id, student_id): # this is a constructor which is used to initialize the object\n",
    "        self.p = phone_number # self is used to refer to the object\n",
    "        self.e = email_id\n",
    "        self.s = student_id\n",
    "        \n",
    "    def return_student_details(self):\n",
    "        return self.p, self.e, self.s\n",
    "    \n",
    "rohan = pwskills1(1234567890, \"rohan@gmail.com\", 123)\n",
    "sohan = pwskills1(9876543210, \"sohan@gmail.com\", 456)\n",
    "\n",
    "rohan.return_student_details()\n",
    "sohan.return_student_details()\n",
    "rohan.p"
   ]
  },
  {
   "cell_type": "code",
   "execution_count": 9,
   "metadata": {},
   "outputs": [
    {
     "data": {
      "text/plain": [
       "(1234567890, 'rohan@gmail.com', 123)"
      ]
     },
     "execution_count": 9,
     "metadata": {},
     "output_type": "execute_result"
    },
    {
     "data": {
      "text/plain": [
       "(9876543210, 'sohan@gmail.com', 456)"
      ]
     },
     "execution_count": 9,
     "metadata": {},
     "output_type": "execute_result"
    },
    {
     "data": {
      "text/plain": [
       "1234567890"
      ]
     },
     "execution_count": 9,
     "metadata": {},
     "output_type": "execute_result"
    }
   ],
   "source": [
    "class pwskills1:\n",
    "    \n",
    "    def __init__(sidd, phone_number, email_id, student_id): # this is a constructor which is used to initialize the object\n",
    "        sidd.phone_number = phone_number # self is used to refer to the object\n",
    "        sidd.email_id = email_id\n",
    "        sidd.student_id = student_id\n",
    "        \n",
    "    def return_student_details(sidd):\n",
    "        return sidd.phone_number, sidd.email_id, sidd.student_id\n",
    "    \n",
    "rohan = pwskills1(1234567890, \"rohan@gmail.com\", 123)\n",
    "sohan = pwskills1(9876543210, \"sohan@gmail.com\", 456)\n",
    "\n",
    "rohan.return_student_details()\n",
    "sohan.return_student_details()\n",
    "rohan.phone_number"
   ]
  }
 ],
 "metadata": {
  "kernelspec": {
   "display_name": "env1_311",
   "language": "python",
   "name": "python3"
  },
  "language_info": {
   "codemirror_mode": {
    "name": "ipython",
    "version": 3
   },
   "file_extension": ".py",
   "mimetype": "text/x-python",
   "name": "python",
   "nbconvert_exporter": "python",
   "pygments_lexer": "ipython3",
   "version": "3.11.5"
  }
 },
 "nbformat": 4,
 "nbformat_minor": 2
}
