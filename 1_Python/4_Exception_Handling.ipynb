{
 "cells": [
  {
   "cell_type": "markdown",
   "metadata": {},
   "source": [
    "# **<font color='white' face=\"Georgia\" size=\"6\">Feb 12 - Exception Handling**</font>"
   ]
  },
  {
   "cell_type": "code",
   "execution_count": 1,
   "metadata": {},
   "outputs": [],
   "source": [
    "#To show multiple outputs and misc. changes\n",
    "from IPython.core.interactiveshell import InteractiveShell\n",
    "InteractiveShell.ast_node_interactivity = \"all\" # Show all results without print (last_expr)"
   ]
  },
  {
   "cell_type": "markdown",
   "metadata": {},
   "source": [
    "# **<font color='forestgreen' face=\"Georgia\" size=\"5\">Exception Handling With Try-Except**</font>"
   ]
  },
  {
   "cell_type": "code",
   "execution_count": 2,
   "metadata": {},
   "outputs": [
    {
     "name": "stdout",
     "output_type": "stream",
     "text": [
      "\u001b[91mThere was an error: division by zero \u001b[0m\n",
      "This is the end of the program\n"
     ]
    }
   ],
   "source": [
    "try:\n",
    "    a = 10\n",
    "    a/0\n",
    "except Exception as e:\n",
    "    print(\"\\033[91mThere was an error:\", e, \"\\033[0m\")\n",
    "\n",
    "print(\"This is the end of the program\")"
   ]
  },
  {
   "cell_type": "code",
   "execution_count": 3,
   "metadata": {},
   "outputs": [
    {
     "name": "stdout",
     "output_type": "stream",
     "text": [
      "\u001b[91mThere was an error: [Errno 2] No such file or directory: 'test.txt' \u001b[0m\n",
      "This is the end of the program\n"
     ]
    }
   ],
   "source": [
    "try:\n",
    "    f = open(\"test.txt\" , 'r')\n",
    "except Exception as e:\n",
    "    print(\"\\033[91mThere was an error:\", e, \"\\033[0m\")\n",
    "\n",
    "print(\"This is the end of the program\")"
   ]
  },
  {
   "cell_type": "code",
   "execution_count": 4,
   "metadata": {},
   "outputs": [
    {
     "data": {
      "text/plain": [
       "14"
      ]
     },
     "execution_count": 4,
     "metadata": {},
     "output_type": "execute_result"
    },
    {
     "name": "stdout",
     "output_type": "stream",
     "text": [
      "else block: this block will execute once try will execute itself if TRY block is successful\n",
      "This is the end of the program\n"
     ]
    }
   ],
   "source": [
    "try:\n",
    "    f = open(r'./rough/test10.txt', 'w')\n",
    "    f.write(\"this is my msg\")\n",
    "except Exception as e :\n",
    "    print(\"\\033[91mThere was an error:\", e, \"\\033[0m\")\n",
    "else:\n",
    "    f.close()\n",
    "    print(\"else block: this block will execute once try will execute itself if TRY block is successful\")\n",
    "    \n",
    "print(\"This is the end of the program\")"
   ]
  },
  {
   "cell_type": "code",
   "execution_count": 5,
   "metadata": {},
   "outputs": [
    {
     "name": "stdout",
     "output_type": "stream",
     "text": [
      "\u001b[91mThere was an error: [Errno 2] No such file or directory: 'test.txt' \u001b[0m\n",
      "This is the end of the program\n"
     ]
    }
   ],
   "source": [
    "try:\n",
    "    f = open(\"test.txt\" , 'r')\n",
    "except Exception as e:\n",
    "    print(\"\\033[91mThere was an error:\", e, \"\\033[0m\")\n",
    "else:\n",
    "    f.close()\n",
    "    print(\"else block: this block will execute once try will execute itself if TRY block is successful\")\n",
    "    \n",
    "print(\"This is the end of the program\")"
   ]
  },
  {
   "cell_type": "code",
   "execution_count": 6,
   "metadata": {},
   "outputs": [
    {
     "name": "stdout",
     "output_type": "stream",
     "text": [
      "\u001b[91mThere was an error: [Errno 2] No such file or directory: 'test.txt' \u001b[0m\n",
      "finally block: this block will execute once try will execute itself if TRY block is successful or not\n",
      "This is the end of the program\n"
     ]
    }
   ],
   "source": [
    "try:\n",
    "    f = open(\"test.txt\" , 'r')\n",
    "except Exception as e:\n",
    "    print(\"\\033[91mThere was an error:\", e, \"\\033[0m\")\n",
    "finally:\n",
    "    f.close()\n",
    "    print(\"finally block: this block will execute once try will execute itself if TRY block is successful or not\")\n",
    "    \n",
    "print(\"This is the end of the program\")"
   ]
  },
  {
   "cell_type": "code",
   "execution_count": 7,
   "metadata": {},
   "outputs": [
    {
     "name": "stdout",
     "output_type": "stream",
     "text": [
      "\u001b[91mThere was an error: [Errno 2] No such file or directory: 'test.txt' \u001b[0m\n",
      "finally block: this block will execute once try will execute itself if TRY block is successful or not\n",
      "This is the end of the program\n"
     ]
    }
   ],
   "source": [
    "try:\n",
    "    f = open(\"test.txt\" , 'r')\n",
    "except Exception as e:\n",
    "    print(\"\\033[91mThere was an error:\", e, \"\\033[0m\")\n",
    "else:\n",
    "    f.close()\n",
    "    print(\"else block: this block will execute once try will execute itself if TRY block is successful\")\n",
    "finally:\n",
    "    f.close()\n",
    "    print(\"finally block: this block will execute once try will execute itself if TRY block is successful or not\")\n",
    "    \n",
    "print(\"This is the end of the program\")"
   ]
  },
  {
   "cell_type": "code",
   "execution_count": 8,
   "metadata": {},
   "outputs": [
    {
     "name": "stdout",
     "output_type": "stream",
     "text": [
      "else block: this block will execute once try will execute itself if TRY block is successful\n",
      "finally block: this block will execute once try will execute itself if TRY block is successful or not\n",
      "This is the end of the program\n"
     ]
    }
   ],
   "source": [
    "try:\n",
    "    a = 10\n",
    "except Exception as e:\n",
    "    print(\"\\033[91mThere was an error:\", e, \"\\033[0m\")\n",
    "else:\n",
    "    print(\"else block: this block will execute once try will execute itself if TRY block is successful\")\n",
    "finally:\n",
    "    print(\"finally block: this block will execute once try will execute itself if TRY block is successful or not\")\n",
    "    \n",
    "print(\"This is the end of the program\")"
   ]
  },
  {
   "cell_type": "markdown",
   "metadata": {},
   "source": [
    "# **<font color='forestgreen' face=\"Georgia\" size=\"5\">Custom Exception Handling**</font>"
   ]
  },
  {
   "cell_type": "code",
   "execution_count": 9,
   "metadata": {},
   "outputs": [
    {
     "name": "stdout",
     "output_type": "stream",
     "text": [
      "your age is 39\n"
     ]
    }
   ],
   "source": [
    "age = 39 # int(input(\"enter your age\"))\n",
    "print(\"your age is\", age)"
   ]
  },
  {
   "cell_type": "code",
   "execution_count": 10,
   "metadata": {},
   "outputs": [],
   "source": [
    "# This class inherits from Exception and is used to raise custom exceptions\n",
    "class ValidAgeException(Exception):\n",
    "    def __init__(self, msg):\n",
    "        self.msg = msg\n",
    "\n",
    "# This function validates the age and uses the custom exception class\n",
    "def validate_age(age):\n",
    "    if age <= 0:\n",
    "        raise ValidAgeException(\"Age cannot be zero or negative\")\n",
    "    elif age > 200:\n",
    "        raise ValidAgeException(\"Age cannot be greater than 200\")\n",
    "    else:\n",
    "        print(\"Age is valid\")"
   ]
  },
  {
   "cell_type": "code",
   "execution_count": 11,
   "metadata": {},
   "outputs": [
    {
     "name": "stdout",
     "output_type": "stream",
     "text": [
      "Age is valid\n"
     ]
    }
   ],
   "source": [
    "try:\n",
    "    age = 39 # int(input(\"enter your age\"))\n",
    "    validate_age(age)\n",
    "except ValidAgeException as e:\n",
    "    print(\"\\033[91mThere was an error:\", e, \"\\033[0m\")"
   ]
  },
  {
   "cell_type": "code",
   "execution_count": 12,
   "metadata": {},
   "outputs": [
    {
     "name": "stdout",
     "output_type": "stream",
     "text": [
      "\u001b[91mThere was an error: Age cannot be zero or negative \u001b[0m\n"
     ]
    }
   ],
   "source": [
    "try:\n",
    "    age = -39 # int(input(\"enter your age\"))\n",
    "    validate_age(age)\n",
    "except ValidAgeException as e:\n",
    "    print(\"\\033[91mThere was an error:\", e, \"\\033[0m\")"
   ]
  },
  {
   "cell_type": "code",
   "execution_count": 13,
   "metadata": {},
   "outputs": [
    {
     "name": "stdout",
     "output_type": "stream",
     "text": [
      "\u001b[91mThere was an error: Age cannot be greater than 200 \u001b[0m\n"
     ]
    }
   ],
   "source": [
    "try:\n",
    "    age = 201 # int(input(\"enter your age\"))\n",
    "    validate_age(age)\n",
    "except ValidAgeException as e:\n",
    "    print(\"\\033[91mThere was an error:\", e, \"\\033[0m\")"
   ]
  },
  {
   "cell_type": "markdown",
   "metadata": {},
   "source": [
    "# **<font color='white' face=\"Georgia\" size=\"6\">Feb 13 - Exception Handling**</font>"
   ]
  },
  {
   "cell_type": "markdown",
   "metadata": {},
   "source": [
    "# **<font color='forestgreen' face=\"Georgia\" size=\"5\">List of General Use Execptions**</font>"
   ]
  },
  {
   "cell_type": "code",
   "execution_count": 14,
   "metadata": {},
   "outputs": [
    {
     "name": "stdout",
     "output_type": "stream",
     "text": [
      "ArithmeticError\n",
      "AssertionError\n",
      "AttributeError\n",
      "BaseException\n",
      "BaseExceptionGroup\n",
      "BlockingIOError\n",
      "BrokenPipeError\n",
      "BufferError\n",
      "BytesWarning\n",
      "ChildProcessError\n",
      "ConnectionAbortedError\n",
      "ConnectionError\n",
      "ConnectionRefusedError\n",
      "ConnectionResetError\n",
      "DeprecationWarning\n",
      "EOFError\n",
      "EncodingWarning\n",
      "EnvironmentError\n",
      "Exception\n",
      "ExceptionGroup\n",
      "FileExistsError\n",
      "FileNotFoundError\n",
      "FloatingPointError\n",
      "FutureWarning\n",
      "GeneratorExit\n",
      "IOError\n",
      "ImportError\n",
      "ImportWarning\n",
      "IndentationError\n",
      "IndexError\n",
      "InterruptedError\n",
      "IsADirectoryError\n",
      "KeyError\n",
      "KeyboardInterrupt\n",
      "LookupError\n",
      "MemoryError\n",
      "ModuleNotFoundError\n",
      "NameError\n",
      "NotADirectoryError\n",
      "NotImplementedError\n",
      "OSError\n",
      "OverflowError\n",
      "PendingDeprecationWarning\n",
      "PermissionError\n",
      "ProcessLookupError\n",
      "RecursionError\n",
      "ReferenceError\n",
      "ResourceWarning\n",
      "RuntimeError\n",
      "RuntimeWarning\n",
      "StopAsyncIteration\n",
      "StopIteration\n",
      "SyntaxError\n",
      "SyntaxWarning\n",
      "SystemError\n",
      "SystemExit\n",
      "TabError\n",
      "TimeoutError\n",
      "TypeError\n",
      "UnboundLocalError\n",
      "UnicodeDecodeError\n",
      "UnicodeEncodeError\n",
      "UnicodeError\n",
      "UnicodeTranslateError\n",
      "UnicodeWarning\n",
      "UserWarning\n",
      "ValueError\n",
      "Warning\n",
      "WindowsError\n",
      "ZeroDivisionError\n"
     ]
    }
   ],
   "source": [
    "import builtins\n",
    "\n",
    "# Get a list of exception names from the builtins module\n",
    "exception_names = [name for name in dir(builtins) if isinstance(getattr(builtins, name), type) and issubclass(getattr(builtins, name), BaseException)]\n",
    "\n",
    "# Print the list of exception names\n",
    "for exception_name in exception_names:\n",
    "    print(exception_name)"
   ]
  },
  {
   "cell_type": "code",
   "execution_count": 15,
   "metadata": {},
   "outputs": [
    {
     "name": "stdout",
     "output_type": "stream",
     "text": [
      "division by zero\n"
     ]
    }
   ],
   "source": [
    "try :\n",
    "    a = 10 \n",
    "    10/0\n",
    "except ZeroDivisionError as e :\n",
    "    print(e)"
   ]
  },
  {
   "cell_type": "code",
   "execution_count": 16,
   "metadata": {},
   "outputs": [
    {
     "name": "stdout",
     "output_type": "stream",
     "text": [
      "invalid literal for int() with base 10: 'siddharth'\n"
     ]
    }
   ],
   "source": [
    "try :\n",
    "    int(\"siddharth\")\n",
    "except (ValueError, TypeError) as e :\n",
    "    print(e)"
   ]
  },
  {
   "cell_type": "code",
   "execution_count": 17,
   "metadata": {},
   "outputs": [
    {
     "name": "stdout",
     "output_type": "stream",
     "text": [
      "this will catch an error\n"
     ]
    }
   ],
   "source": [
    "try :\n",
    "    int(\"siddharth\")\n",
    "except  :\n",
    "    print(\"this will catch an error\")"
   ]
  },
  {
   "cell_type": "code",
   "execution_count": 18,
   "metadata": {},
   "outputs": [
    {
     "name": "stdout",
     "output_type": "stream",
     "text": [
      "No module named 'xyz'\n"
     ]
    }
   ],
   "source": [
    "try :\n",
    "    import xyz\n",
    "except ImportError as e : \n",
    "    print(e)"
   ]
  },
  {
   "cell_type": "code",
   "execution_count": 19,
   "metadata": {},
   "outputs": [
    {
     "name": "stdout",
     "output_type": "stream",
     "text": [
      "No such key found: 'key10'\n"
     ]
    }
   ],
   "source": [
    "try :\n",
    "    d = {1: [3,4,5,6] , \"key\" :\"siddharth\"}\n",
    "    d[\"key10\"]\n",
    "except KeyError as e : \n",
    "    print(\"No such key found:\", e)"
   ]
  },
  {
   "cell_type": "code",
   "execution_count": 20,
   "metadata": {},
   "outputs": [
    {
     "name": "stdout",
     "output_type": "stream",
     "text": [
      "'str' object has no attribute 'test'\n"
     ]
    }
   ],
   "source": [
    "try :\n",
    "    \"siddharth\".test()\n",
    "except AttributeError as e :\n",
    "    print(e)"
   ]
  },
  {
   "cell_type": "code",
   "execution_count": 21,
   "metadata": {},
   "outputs": [
    {
     "name": "stdout",
     "output_type": "stream",
     "text": [
      "list index out of range\n"
     ]
    }
   ],
   "source": [
    "try :\n",
    "    l = [1,2,3,3]\n",
    "    l[10]\n",
    "except IndexError as e :\n",
    "    print(e)"
   ]
  },
  {
   "cell_type": "code",
   "execution_count": 22,
   "metadata": {},
   "outputs": [
    {
     "name": "stdout",
     "output_type": "stream",
     "text": [
      "unsupported operand type(s) for +: 'int' and 'str'\n"
     ]
    }
   ],
   "source": [
    "try :\n",
    "    123 + \"sudh\"\n",
    "except TypeError as e :\n",
    "    print(e)"
   ]
  },
  {
   "cell_type": "code",
   "execution_count": 23,
   "metadata": {},
   "outputs": [
    {
     "name": "stdout",
     "output_type": "stream",
     "text": [
      "[Errno 2] No such file or directory: 'test.txt'\n"
     ]
    }
   ],
   "source": [
    "try :\n",
    "    with open(\"test.txt\" , 'r') as f :\n",
    "        f.read()\n",
    "except FileNotFoundError as e :\n",
    "    print(e)"
   ]
  },
  {
   "cell_type": "code",
   "execution_count": 24,
   "metadata": {},
   "outputs": [
    {
     "name": "stdout",
     "output_type": "stream",
     "text": [
      "test  [Errno 2] No such file or directory: 'test.txt'\n"
     ]
    }
   ],
   "source": [
    "try :\n",
    "    with open(\"test.txt\" , 'r') as f :\n",
    "        f.read()\n",
    "except Exception as e:\n",
    "    print(\"test \" , e)\n",
    "except FileNotFoundError as e:\n",
    "    print(\"this is my file not found type error \" , e)"
   ]
  },
  {
   "cell_type": "code",
   "execution_count": 25,
   "metadata": {},
   "outputs": [
    {
     "name": "stdout",
     "output_type": "stream",
     "text": [
      "this is my file not found type error  [Errno 2] No such file or directory: 'test.txt'\n"
     ]
    }
   ],
   "source": [
    "try :\n",
    "    with open(\"test.txt\" , 'r') as f :\n",
    "        f.read()\n",
    "except FileNotFoundError as e:\n",
    "    print(\"this is my file not found type error \" , e)\n",
    "except Exception as e:\n",
    "    print(\"test \" , e)"
   ]
  },
  {
   "cell_type": "code",
   "execution_count": 26,
   "metadata": {},
   "outputs": [
    {
     "name": "stdout",
     "output_type": "stream",
     "text": [
      "test  [Errno 2] No such file or directory: 'test.txt'\n"
     ]
    }
   ],
   "source": [
    "def test(file):\n",
    "    try :\n",
    "        with open(file, 'r') as f:\n",
    "            f.read()\n",
    "    except Exception as e :\n",
    "        print(\"test \" , e)\n",
    "    except FileNotFoundError as e :\n",
    "        print(\"this is my file not found type error \" , e)\n",
    "        \n",
    "test(\"test.txt\")"
   ]
  },
  {
   "cell_type": "markdown",
   "metadata": {},
   "source": [
    "# **<font color='forestgreen' face=\"Georgia\" size=\"5\">Best Practice Exception Handling**</font>"
   ]
  },
  {
   "cell_type": "code",
   "execution_count": 27,
   "metadata": {},
   "outputs": [
    {
     "name": "stdout",
     "output_type": "stream",
     "text": [
      "division by zero\n"
     ]
    }
   ],
   "source": [
    "#use always a specific exception\n",
    "try :\n",
    "    10/0\n",
    "except Exception as e :\n",
    "    print(e)"
   ]
  },
  {
   "cell_type": "code",
   "execution_count": 28,
   "metadata": {},
   "outputs": [
    {
     "name": "stdout",
     "output_type": "stream",
     "text": [
      "division by zero\n"
     ]
    }
   ],
   "source": [
    "try :\n",
    "    10/0\n",
    "except ZeroDivisionError as e :\n",
    "    print(e)"
   ]
  },
  {
   "cell_type": "code",
   "execution_count": 29,
   "metadata": {},
   "outputs": [
    {
     "name": "stdout",
     "output_type": "stream",
     "text": [
      "this is my zero division error i am handling  division by zero\n"
     ]
    }
   ],
   "source": [
    "#print always a valid msg\n",
    "try :\n",
    "    10/0\n",
    "except ZeroDivisionError as e :\n",
    "    print(\"this is my zero division error i am handling \" , e)"
   ]
  },
  {
   "cell_type": "code",
   "execution_count": 30,
   "metadata": {},
   "outputs": [],
   "source": [
    "#always try to log open(r'./rough/test10.txt',\n",
    "import logging\n",
    "\n",
    "logging.basicConfig(filename=r'./rough/error_log.log', \n",
    "                    level=logging.DEBUG, # DEBUG, INFO, WARNING, ERROR, CRITICAL\n",
    "                    format='%(asctime)s: %(levelname)s: %(message)s',\n",
    "                    datefmt='%m/%d/%Y %I:%M:%S %p')\n",
    "try :\n",
    "    10/0\n",
    "except ZeroDivisionError as e :\n",
    "    logging.error(\"This is a zero division error --> {} \".format( e))"
   ]
  },
  {
   "cell_type": "code",
   "execution_count": 31,
   "metadata": {},
   "outputs": [],
   "source": [
    "#always avoid to write a multiple exception handling \n",
    "try :\n",
    "    10/0\n",
    "except FileNotFoundError as e : \n",
    "    logging.error(\"This is a file not found error --> {} \".format( e))\n",
    "except AttributeError as e : \n",
    "    logging.error(\"This is a attribute error --> {} \".format( e))\n",
    "except ZeroDivisionError as e :\n",
    "    logging.error(\"This is a zero division error --> {} \".format( e))"
   ]
  },
  {
   "cell_type": "code",
   "execution_count": 32,
   "metadata": {},
   "outputs": [],
   "source": [
    "#always avoid to write a multiple exception handling \n",
    "try :\n",
    "    with open(\"test.txt\" , 'r') as f:\n",
    "        f.read()\n",
    "except FileNotFoundError as e : \n",
    "    logging.error(\"This is a file not found error --> {} \".format( e))\n",
    "except AttributeError as e : \n",
    "    logging.error(\"This is a attribute error --> {} \".format( e))\n",
    "except ZeroDivisionError as e :\n",
    "    logging.error(\"This is a zero division error --> {} \".format( e))"
   ]
  },
  {
   "cell_type": "code",
   "execution_count": 33,
   "metadata": {},
   "outputs": [],
   "source": [
    "#always avoid to write a multiple exception handling \n",
    "try :\n",
    "    \"abc\".usper()\n",
    "except FileNotFoundError as e : \n",
    "    logging.error(\"This is a file not found error --> {} \".format( e))\n",
    "except AttributeError as e : \n",
    "    logging.error(\"This is a attribute error --> {} \".format( e))\n",
    "except ZeroDivisionError as e :\n",
    "    logging.error(\"This is a zero division error --> {} \".format( e))"
   ]
  },
  {
   "cell_type": "code",
   "execution_count": 34,
   "metadata": {},
   "outputs": [
    {
     "data": {
      "text/plain": [
       "22"
      ]
     },
     "execution_count": 34,
     "metadata": {},
     "output_type": "execute_result"
    }
   ],
   "source": [
    "#cleanup all the resources\n",
    "try :\n",
    "    with open(r'./rough/test11.txt', \"w\" ) as f:\n",
    "        f.write(\"thsi is my msg to file\" )\n",
    "except FileNotFoundError as e : \n",
    "     logging.error(\"this is my file not found  {} \".format( e))\n",
    "finally: \n",
    "    f.close()"
   ]
  }
 ],
 "metadata": {
  "kernelspec": {
   "display_name": "env1_311",
   "language": "python",
   "name": "python3"
  },
  "language_info": {
   "codemirror_mode": {
    "name": "ipython",
    "version": 3
   },
   "file_extension": ".py",
   "mimetype": "text/x-python",
   "name": "python",
   "nbconvert_exporter": "python",
   "pygments_lexer": "ipython3",
   "version": "3.11.5"
  }
 },
 "nbformat": 4,
 "nbformat_minor": 2
}
