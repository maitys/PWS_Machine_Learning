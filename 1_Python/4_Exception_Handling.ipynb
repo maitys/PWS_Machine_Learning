{
 "cells": [
  {
   "cell_type": "markdown",
   "metadata": {},
   "source": [
    "# **<font color='white' face=\"Georgia\" size=\"6\">Feb 12 - Exception Handling**</font>"
   ]
  },
  {
   "cell_type": "code",
   "execution_count": 1,
   "metadata": {},
   "outputs": [],
   "source": [
    "#To show multiple outputs and misc. changes\n",
    "from IPython.core.interactiveshell import InteractiveShell\n",
    "InteractiveShell.ast_node_interactivity = \"all\" # Show all results without print (last_expr)"
   ]
  },
  {
   "cell_type": "markdown",
   "metadata": {},
   "source": [
    "# **<font color='forestgreen' face=\"Georgia\" size=\"5\">Exception Handling With Try-Except**</font>"
   ]
  },
  {
   "cell_type": "code",
   "execution_count": 2,
   "metadata": {},
   "outputs": [
    {
     "name": "stdout",
     "output_type": "stream",
     "text": [
      "\u001b[91mThere was an error: division by zero \u001b[0m\n",
      "This is the end of the program\n"
     ]
    }
   ],
   "source": [
    "try:\n",
    "    a = 10\n",
    "    a/0\n",
    "except Exception as e:\n",
    "    print(\"\\033[91mThere was an error:\", e, \"\\033[0m\")\n",
    "\n",
    "print(\"This is the end of the program\")"
   ]
  },
  {
   "cell_type": "code",
   "execution_count": 3,
   "metadata": {},
   "outputs": [
    {
     "name": "stdout",
     "output_type": "stream",
     "text": [
      "\u001b[91mThere was an error: [Errno 2] No such file or directory: 'test.txt' \u001b[0m\n",
      "This is the end of the program\n"
     ]
    }
   ],
   "source": [
    "try:\n",
    "    f = open(\"test.txt\" , 'r')\n",
    "except Exception as e:\n",
    "    print(\"\\033[91mThere was an error:\", e, \"\\033[0m\")\n",
    "\n",
    "print(\"This is the end of the program\")"
   ]
  },
  {
   "cell_type": "code",
   "execution_count": 4,
   "metadata": {},
   "outputs": [
    {
     "data": {
      "text/plain": [
       "14"
      ]
     },
     "execution_count": 4,
     "metadata": {},
     "output_type": "execute_result"
    },
    {
     "name": "stdout",
     "output_type": "stream",
     "text": [
      "else block: this block will execute once try will execute itself if TRY block is successful\n",
      "This is the end of the program\n"
     ]
    }
   ],
   "source": [
    "try:\n",
    "    f = open(r'./rough/test10.txt', 'w')\n",
    "    f.write(\"this is my msg\")\n",
    "except Exception as e :\n",
    "    print(\"\\033[91mThere was an error:\", e, \"\\033[0m\")\n",
    "else:\n",
    "    f.close()\n",
    "    print(\"else block: this block will execute once try will execute itself if TRY block is successful\")\n",
    "    \n",
    "print(\"This is the end of the program\")"
   ]
  },
  {
   "cell_type": "code",
   "execution_count": 5,
   "metadata": {},
   "outputs": [
    {
     "name": "stdout",
     "output_type": "stream",
     "text": [
      "\u001b[91mThere was an error: [Errno 2] No such file or directory: 'test.txt' \u001b[0m\n",
      "This is the end of the program\n"
     ]
    }
   ],
   "source": [
    "try:\n",
    "    f = open(\"test.txt\" , 'r')\n",
    "except Exception as e:\n",
    "    print(\"\\033[91mThere was an error:\", e, \"\\033[0m\")\n",
    "else:\n",
    "    f.close()\n",
    "    print(\"else block: this block will execute once try will execute itself if TRY block is successful\")\n",
    "    \n",
    "print(\"This is the end of the program\")"
   ]
  },
  {
   "cell_type": "code",
   "execution_count": 6,
   "metadata": {},
   "outputs": [
    {
     "name": "stdout",
     "output_type": "stream",
     "text": [
      "\u001b[91mThere was an error: [Errno 2] No such file or directory: 'test.txt' \u001b[0m\n",
      "finally block: this block will execute once try will execute itself if TRY block is successful or not\n",
      "This is the end of the program\n"
     ]
    }
   ],
   "source": [
    "try:\n",
    "    f = open(\"test.txt\" , 'r')\n",
    "except Exception as e:\n",
    "    print(\"\\033[91mThere was an error:\", e, \"\\033[0m\")\n",
    "finally:\n",
    "    f.close()\n",
    "    print(\"finally block: this block will execute once try will execute itself if TRY block is successful or not\")\n",
    "    \n",
    "print(\"This is the end of the program\")"
   ]
  },
  {
   "cell_type": "code",
   "execution_count": 7,
   "metadata": {},
   "outputs": [
    {
     "name": "stdout",
     "output_type": "stream",
     "text": [
      "\u001b[91mThere was an error: [Errno 2] No such file or directory: 'test.txt' \u001b[0m\n",
      "finally block: this block will execute once try will execute itself if TRY block is successful or not\n",
      "This is the end of the program\n"
     ]
    }
   ],
   "source": [
    "try:\n",
    "    f = open(\"test.txt\" , 'r')\n",
    "except Exception as e:\n",
    "    print(\"\\033[91mThere was an error:\", e, \"\\033[0m\")\n",
    "else:\n",
    "    f.close()\n",
    "    print(\"else block: this block will execute once try will execute itself if TRY block is successful\")\n",
    "finally:\n",
    "    f.close()\n",
    "    print(\"finally block: this block will execute once try will execute itself if TRY block is successful or not\")\n",
    "    \n",
    "print(\"This is the end of the program\")"
   ]
  },
  {
   "cell_type": "code",
   "execution_count": 8,
   "metadata": {},
   "outputs": [
    {
     "name": "stdout",
     "output_type": "stream",
     "text": [
      "else block: this block will execute once try will execute itself if TRY block is successful\n",
      "finally block: this block will execute once try will execute itself if TRY block is successful or not\n",
      "This is the end of the program\n"
     ]
    }
   ],
   "source": [
    "try:\n",
    "    a = 10\n",
    "except Exception as e:\n",
    "    print(\"\\033[91mThere was an error:\", e, \"\\033[0m\")\n",
    "else:\n",
    "    print(\"else block: this block will execute once try will execute itself if TRY block is successful\")\n",
    "finally:\n",
    "    print(\"finally block: this block will execute once try will execute itself if TRY block is successful or not\")\n",
    "    \n",
    "print(\"This is the end of the program\")"
   ]
  },
  {
   "cell_type": "markdown",
   "metadata": {},
   "source": [
    "# **<font color='forestgreen' face=\"Georgia\" size=\"5\">Custom Exception Handling**</font>"
   ]
  },
  {
   "cell_type": "code",
   "execution_count": 9,
   "metadata": {},
   "outputs": [
    {
     "name": "stdout",
     "output_type": "stream",
     "text": [
      "your age is 39\n"
     ]
    }
   ],
   "source": [
    "age = 39 # int(input(\"enter your age\"))\n",
    "print(\"your age is\", age)"
   ]
  },
  {
   "cell_type": "code",
   "execution_count": 10,
   "metadata": {},
   "outputs": [],
   "source": [
    "# This class inherits from Exception and is used to raise custom exceptions\n",
    "class ValidAgeException(Exception):\n",
    "    def __init__(self, msg):\n",
    "        self.msg = msg\n",
    "\n",
    "# This function validates the age and uses the custom exception class\n",
    "def validate_age(age):\n",
    "    if age <= 0:\n",
    "        raise ValidAgeException(\"Age cannot be zero or negative\")\n",
    "    elif age > 200:\n",
    "        raise ValidAgeException(\"Age cannot be greater than 200\")\n",
    "    else:\n",
    "        print(\"Age is valid\")"
   ]
  },
  {
   "cell_type": "code",
   "execution_count": 11,
   "metadata": {},
   "outputs": [
    {
     "name": "stdout",
     "output_type": "stream",
     "text": [
      "Age is valid\n"
     ]
    }
   ],
   "source": [
    "try:\n",
    "    age = 39 # int(input(\"enter your age\"))\n",
    "    validate_age(age)\n",
    "except ValidAgeException as e:\n",
    "    print(\"\\033[91mThere was an error:\", e, \"\\033[0m\")"
   ]
  },
  {
   "cell_type": "code",
   "execution_count": 12,
   "metadata": {},
   "outputs": [
    {
     "name": "stdout",
     "output_type": "stream",
     "text": [
      "\u001b[91mThere was an error: Age cannot be zero or negative \u001b[0m\n"
     ]
    }
   ],
   "source": [
    "try:\n",
    "    age = -39 # int(input(\"enter your age\"))\n",
    "    validate_age(age)\n",
    "except ValidAgeException as e:\n",
    "    print(\"\\033[91mThere was an error:\", e, \"\\033[0m\")"
   ]
  },
  {
   "cell_type": "code",
   "execution_count": 13,
   "metadata": {},
   "outputs": [
    {
     "name": "stdout",
     "output_type": "stream",
     "text": [
      "\u001b[91mThere was an error: Age cannot be greater than 200 \u001b[0m\n"
     ]
    }
   ],
   "source": [
    "try:\n",
    "    age = 201 # int(input(\"enter your age\"))\n",
    "    validate_age(age)\n",
    "except ValidAgeException as e:\n",
    "    print(\"\\033[91mThere was an error:\", e, \"\\033[0m\")"
   ]
  }
 ],
 "metadata": {
  "kernelspec": {
   "display_name": "env1_311",
   "language": "python",
   "name": "python3"
  },
  "language_info": {
   "codemirror_mode": {
    "name": "ipython",
    "version": 3
   },
   "file_extension": ".py",
   "mimetype": "text/x-python",
   "name": "python",
   "nbconvert_exporter": "python",
   "pygments_lexer": "ipython3",
   "version": "3.11.5"
  }
 },
 "nbformat": 4,
 "nbformat_minor": 2
}
