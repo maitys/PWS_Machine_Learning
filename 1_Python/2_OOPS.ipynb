{
 "cells": [
  {
   "cell_type": "markdown",
   "metadata": {},
   "source": [
    "# **<font color='white' face=\"Georgia\" size=\"6\">Feb 10 - OOPs Concepts**</font>"
   ]
  },
  {
   "cell_type": "code",
   "execution_count": 1,
   "metadata": {},
   "outputs": [],
   "source": [
    "#To show multiple outputs and misc. changes\n",
    "from IPython.core.interactiveshell import InteractiveShell\n",
    "InteractiveShell.ast_node_interactivity = \"all\" # Show all results without print (last_expr)"
   ]
  },
  {
   "cell_type": "markdown",
   "metadata": {},
   "source": [
    "# **<font color='forestgreen' face=\"Georgia\" size=\"5\">Decorators**</font>"
   ]
  },
  {
   "cell_type": "code",
   "execution_count": 2,
   "metadata": {},
   "outputs": [
    {
     "name": "stdout",
     "output_type": "stream",
     "text": [
      "this is the start of my fun\n",
      "9\n",
      "this is the end of my fun\n"
     ]
    }
   ],
   "source": [
    "def test():\n",
    "    print(\"this is the start of my fun\")\n",
    "    print(4+5)\n",
    "    print(\"this is the end of my fun\")\n",
    "    \n",
    "test()"
   ]
  },
  {
   "cell_type": "code",
   "execution_count": 3,
   "metadata": {},
   "outputs": [
    {
     "name": "stdout",
     "output_type": "stream",
     "text": [
      "this is the start of my fun\n",
      "9\n",
      "this is the end of my fun\n",
      "**************************************************\n",
      "this is the start of my fun\n",
      "hi today's date is 2023-12-28\n",
      "this is the end of my fun\n"
     ]
    }
   ],
   "source": [
    "import datetime\n",
    "def deco(func):\n",
    "    def inner_deco():\n",
    "        print(\"this is the start of my fun\")\n",
    "        func()\n",
    "        print(\"this is the end of my fun\")\n",
    "    return inner_deco\n",
    "\n",
    "@deco\n",
    "def test1():\n",
    "    print(4+5)\n",
    "\n",
    "@deco\n",
    "def test2():\n",
    "    print(\"hi today's date is {}\".format(datetime.date.today()))\n",
    "\n",
    "\n",
    "test1()\n",
    "print(\"*\"*50)\n",
    "test2()"
   ]
  },
  {
   "cell_type": "code",
   "execution_count": 4,
   "metadata": {},
   "outputs": [
    {
     "name": "stdout",
     "output_type": "stream",
     "text": [
      "hi today's date is 2023-12-28\n",
      "time taken is 0.0\n",
      "**************************************************\n",
      "66.44727491565139\n",
      "time taken is 0.0\n",
      "**************************************************\n",
      "time taken is 0.13543224334716797\n"
     ]
    }
   ],
   "source": [
    "import time\n",
    "def timer_test(func):\n",
    "    def timer_test_inner():\n",
    "        start = time.time()\n",
    "        func()\n",
    "        end = time.time()\n",
    "        print(\"time taken is {}\".format(end-start))\n",
    "    return timer_test_inner\n",
    "\n",
    "@timer_test\n",
    "def test1():\n",
    "    print(\"hi today's date is {}\".format(datetime.date.today()))\n",
    "\n",
    "\n",
    "@timer_test\n",
    "def test2():\n",
    "    print(45+67/3.12394)\n",
    "    \n",
    "@timer_test\n",
    "def test3():\n",
    "    for i in range(10000000):\n",
    "        pass\n",
    "    \n",
    "test1()\n",
    "print(\"*\"*50)\n",
    "test2()\n",
    "print(\"*\"*50)\n",
    "test3()"
   ]
  },
  {
   "cell_type": "markdown",
   "metadata": {},
   "source": [
    "# **<font color='forestgreen' face=\"Georgia\" size=\"5\">Class Methods**</font>"
   ]
  },
  {
   "cell_type": "markdown",
   "metadata": {},
   "source": [
    "# **<font color='forestgreen' face=\"Georgia\" size=\"5\">Static Method**</font>"
   ]
  },
  {
   "cell_type": "markdown",
   "metadata": {},
   "source": [
    "# **<font color='forestgreen' face=\"Georgia\" size=\"5\">Special (Magic/Dunder) Methods**</font>"
   ]
  },
  {
   "cell_type": "markdown",
   "metadata": {},
   "source": [
    "# **<font color='forestgreen' face=\"Georgia\" size=\"5\">Property Decorators - Getters, Setters, And Deletes**</font>"
   ]
  },
  {
   "cell_type": "markdown",
   "metadata": {},
   "source": []
  }
 ],
 "metadata": {
  "kernelspec": {
   "display_name": "env1_311",
   "language": "python",
   "name": "python3"
  },
  "language_info": {
   "codemirror_mode": {
    "name": "ipython",
    "version": 3
   },
   "file_extension": ".py",
   "mimetype": "text/x-python",
   "name": "python",
   "nbconvert_exporter": "python",
   "pygments_lexer": "ipython3",
   "version": "3.11.5"
  }
 },
 "nbformat": 4,
 "nbformat_minor": 2
}
