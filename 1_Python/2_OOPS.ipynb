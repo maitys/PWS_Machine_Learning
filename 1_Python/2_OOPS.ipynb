{
 "cells": [
  {
   "cell_type": "markdown",
   "metadata": {},
   "source": [
    "# **<font color='white' face=\"Georgia\" size=\"6\">Feb 10 - OOPs Concepts**</font>"
   ]
  },
  {
   "cell_type": "code",
   "execution_count": 1,
   "metadata": {},
   "outputs": [],
   "source": [
    "#To show multiple outputs and misc. changes\n",
    "from IPython.core.interactiveshell import InteractiveShell\n",
    "InteractiveShell.ast_node_interactivity = \"all\" # Show all results without print (last_expr)"
   ]
  },
  {
   "cell_type": "markdown",
   "metadata": {},
   "source": [
    "# **<font color='forestgreen' face=\"Georgia\" size=\"5\">Decorators**</font>"
   ]
  },
  {
   "cell_type": "code",
   "execution_count": 2,
   "metadata": {},
   "outputs": [
    {
     "name": "stdout",
     "output_type": "stream",
     "text": [
      "this is the start of my fun\n",
      "9\n",
      "this is the end of my fun\n"
     ]
    }
   ],
   "source": [
    "def test():\n",
    "    print(\"this is the start of my fun\")\n",
    "    print(4+5)\n",
    "    print(\"this is the end of my fun\")\n",
    "    \n",
    "test()"
   ]
  },
  {
   "cell_type": "code",
   "execution_count": 3,
   "metadata": {},
   "outputs": [
    {
     "name": "stdout",
     "output_type": "stream",
     "text": [
      "this is the start of my fun\n",
      "9\n",
      "this is the end of my fun\n",
      "**************************************************\n",
      "this is the start of my fun\n",
      "hi today's date is 2023-12-29\n",
      "this is the end of my fun\n"
     ]
    }
   ],
   "source": [
    "import datetime\n",
    "def deco(func):\n",
    "    def inner_deco():\n",
    "        print(\"this is the start of my fun\")\n",
    "        func()\n",
    "        print(\"this is the end of my fun\")\n",
    "    return inner_deco\n",
    "\n",
    "@deco\n",
    "def test1():\n",
    "    print(4+5)\n",
    "\n",
    "@deco\n",
    "def test2():\n",
    "    print(\"hi today's date is {}\".format(datetime.date.today()))\n",
    "\n",
    "\n",
    "test1()\n",
    "print(\"*\"*50)\n",
    "test2()"
   ]
  },
  {
   "cell_type": "code",
   "execution_count": 4,
   "metadata": {},
   "outputs": [
    {
     "name": "stdout",
     "output_type": "stream",
     "text": [
      "hi today's date is 2023-12-29\n",
      "time taken is 0.0\n",
      "**************************************************\n",
      "66.44727491565139\n",
      "time taken is 0.0\n",
      "**************************************************\n",
      "time taken is 0.12264466285705566\n"
     ]
    }
   ],
   "source": [
    "import time\n",
    "def timer_test(func):\n",
    "    def timer_test_inner():\n",
    "        start = time.time()\n",
    "        func()\n",
    "        end = time.time()\n",
    "        print(\"time taken is {}\".format(end-start))\n",
    "    return timer_test_inner\n",
    "\n",
    "@timer_test\n",
    "def test1():\n",
    "    print(\"hi today's date is {}\".format(datetime.date.today()))\n",
    "\n",
    "\n",
    "@timer_test\n",
    "def test2():\n",
    "    print(45+67/3.12394)\n",
    "    \n",
    "@timer_test\n",
    "def test3():\n",
    "    for i in range(10000000):\n",
    "        pass\n",
    "    \n",
    "test1()\n",
    "print(\"*\"*50)\n",
    "test2()\n",
    "print(\"*\"*50)\n",
    "test3()"
   ]
  },
  {
   "cell_type": "markdown",
   "metadata": {},
   "source": [
    "# **<font color='forestgreen' face=\"Georgia\" size=\"5\">Class Methods**</font>"
   ]
  },
  {
   "cell_type": "code",
   "execution_count": 5,
   "metadata": {},
   "outputs": [
    {
     "data": {
      "text/plain": [
       "'siddharth'"
      ]
     },
     "execution_count": 5,
     "metadata": {},
     "output_type": "execute_result"
    },
    {
     "data": {
      "text/plain": [
       "'smaity@gmail.com'"
      ]
     },
     "execution_count": 5,
     "metadata": {},
     "output_type": "execute_result"
    },
    {
     "name": "stdout",
     "output_type": "stream",
     "text": [
      "name is siddharth and email is smaity@gmail.com\n"
     ]
    }
   ],
   "source": [
    "class pwskills:\n",
    "    def __init__(self, name, email):\n",
    "        self.name = name\n",
    "        self.email = email\n",
    "        \n",
    "    def student_details(self):\n",
    "        print(\"name is {} and email is {}\".format(self.name, self.email))\n",
    "        \n",
    "obj1 = pwskills(\"siddharth\", \"smaity@gmail.com\")\n",
    "obj1.name\n",
    "obj1.email\n",
    "obj1.student_details()"
   ]
  },
  {
   "cell_type": "code",
   "execution_count": 6,
   "metadata": {},
   "outputs": [
    {
     "data": {
      "text/plain": [
       "'siddharth'"
      ]
     },
     "execution_count": 6,
     "metadata": {},
     "output_type": "execute_result"
    },
    {
     "data": {
      "text/plain": [
       "'smaity@gmail.com'"
      ]
     },
     "execution_count": 6,
     "metadata": {},
     "output_type": "execute_result"
    },
    {
     "name": "stdout",
     "output_type": "stream",
     "text": [
      "name is siddharth and email is smaity@gmail.com\n",
      "**************************************************\n"
     ]
    },
    {
     "data": {
      "text/plain": [
       "'siddharth'"
      ]
     },
     "execution_count": 6,
     "metadata": {},
     "output_type": "execute_result"
    },
    {
     "data": {
      "text/plain": [
       "'smaity@gmail.com'"
      ]
     },
     "execution_count": 6,
     "metadata": {},
     "output_type": "execute_result"
    },
    {
     "name": "stdout",
     "output_type": "stream",
     "text": [
      "name is siddharth and email is smaity@gmail.com\n"
     ]
    }
   ],
   "source": [
    "class pwskills1:\n",
    "    def __init__(self, name, email):\n",
    "        self.name = name\n",
    "        self.email = email\n",
    "        \n",
    "    @classmethod\n",
    "    def student_details_class(cls, name, email):\n",
    "        return cls(name, email)\n",
    "        \n",
    "    def student_details(self):\n",
    "        print(\"name is {} and email is {}\".format(self.name, self.email))\n",
    "        \n",
    "obj1 = pwskills1.student_details_class(\"siddharth\", \"smaity@gmail.com\")\n",
    "obj1.name\n",
    "obj1.email\n",
    "obj1.student_details()\n",
    "print(\"*\"*50)\n",
    "\n",
    "obj1 = pwskills1(\"siddharth\", \"smaity@gmail.com\")\n",
    "obj1.name\n",
    "obj1.email\n",
    "obj1.student_details()"
   ]
  },
  {
   "cell_type": "code",
   "execution_count": 7,
   "metadata": {},
   "outputs": [
    {
     "data": {
      "text/plain": [
       "'siddharth'"
      ]
     },
     "execution_count": 7,
     "metadata": {},
     "output_type": "execute_result"
    },
    {
     "data": {
      "text/plain": [
       "'smaity@gmail.com'"
      ]
     },
     "execution_count": 7,
     "metadata": {},
     "output_type": "execute_result"
    },
    {
     "name": "stdout",
     "output_type": "stream",
     "text": [
      "name is siddharth and email is smaity@gmail.com\n",
      "**************************************************\n"
     ]
    },
    {
     "data": {
      "text/plain": [
       "'siddharth'"
      ]
     },
     "execution_count": 7,
     "metadata": {},
     "output_type": "execute_result"
    },
    {
     "data": {
      "text/plain": [
       "'smaity@gmail.com'"
      ]
     },
     "execution_count": 7,
     "metadata": {},
     "output_type": "execute_result"
    },
    {
     "name": "stdout",
     "output_type": "stream",
     "text": [
      "name is siddharth and email is smaity@gmail.com\n"
     ]
    }
   ],
   "source": [
    "# @classmethod is an alternative constructor (alternaitve to __init__)\n",
    "class pwskills1:\n",
    "    def __init__(self, name, email):\n",
    "        self.name = name\n",
    "        self.email = email\n",
    "        \n",
    "    @classmethod\n",
    "    def student_details_class(cls, name1, email1):\n",
    "        return cls(name1, email1)\n",
    "        \n",
    "    def student_details(self):\n",
    "        print(\"name is {} and email is {}\".format(self.name, self.email))\n",
    "        \n",
    "obj1 = pwskills1.student_details_class(\"siddharth\", \"smaity@gmail.com\")\n",
    "obj1.name\n",
    "obj1.email\n",
    "obj1.student_details()\n",
    "print(\"*\"*50)\n",
    "\n",
    "obj1 = pwskills1(\"siddharth\", \"smaity@gmail.com\")\n",
    "obj1.name\n",
    "obj1.email\n",
    "obj1.student_details()"
   ]
  },
  {
   "cell_type": "code",
   "execution_count": 8,
   "metadata": {},
   "outputs": [],
   "source": [
    "class pwskills2:\n",
    "    \n",
    "    mobile_number = 0\n",
    "    \n",
    "    def __init__(self, name, email):\n",
    "        self.name = name\n",
    "        self.email = email\n",
    "        \n",
    "    @classmethod\n",
    "    def change_number(cls, mobile):\n",
    "        pwskills2.mobile_number = mobile\n",
    "        \n",
    "    @classmethod\n",
    "    def student_details_class(cls, name1, email1):\n",
    "        return cls(name1, email1)\n",
    "        \n",
    "    def student_details(self):\n",
    "        print(\"name is {} and email is {} and mobile number is {}\".format(self.name, self.email, pwskills2.mobile_number))"
   ]
  },
  {
   "cell_type": "code",
   "execution_count": 9,
   "metadata": {},
   "outputs": [
    {
     "data": {
      "text/plain": [
       "'siddharth'"
      ]
     },
     "execution_count": 9,
     "metadata": {},
     "output_type": "execute_result"
    },
    {
     "data": {
      "text/plain": [
       "'smaity@gmail.com'"
      ]
     },
     "execution_count": 9,
     "metadata": {},
     "output_type": "execute_result"
    },
    {
     "data": {
      "text/plain": [
       "0"
      ]
     },
     "execution_count": 9,
     "metadata": {},
     "output_type": "execute_result"
    },
    {
     "name": "stdout",
     "output_type": "stream",
     "text": [
      "name is siddharth and email is smaity@gmail.com and mobile number is 0\n",
      "**************************************************\n"
     ]
    },
    {
     "data": {
      "text/plain": [
       "1"
      ]
     },
     "execution_count": 9,
     "metadata": {},
     "output_type": "execute_result"
    },
    {
     "name": "stdout",
     "output_type": "stream",
     "text": [
      "name is siddharth and email is smaity@gmail.com and mobile number is 1\n",
      "**************************************************\n"
     ]
    },
    {
     "data": {
      "text/plain": [
       "2"
      ]
     },
     "execution_count": 9,
     "metadata": {},
     "output_type": "execute_result"
    },
    {
     "name": "stdout",
     "output_type": "stream",
     "text": [
      "name is siddharth and email is smaity@gmail.com and mobile number is 2\n"
     ]
    }
   ],
   "source": [
    "# obj1 = pwskills1(\"siddharth\", \"smaity@gmail.com\")\n",
    "obj1 = pwskills2.student_details_class(\"siddharth\", \"smaity@gmail.com\")\n",
    "obj1.name\n",
    "obj1.email\n",
    "obj1.mobile_number\n",
    "obj1.student_details()\n",
    "print(\"*\"*50)\n",
    "\n",
    "obj1.change_number(1)\n",
    "obj1.mobile_number\n",
    "obj1.student_details()\n",
    "print(\"*\"*50)\n",
    "\n",
    "obj1.change_number(2)\n",
    "obj1.mobile_number\n",
    "obj1.student_details()"
   ]
  },
  {
   "cell_type": "code",
   "execution_count": 10,
   "metadata": {},
   "outputs": [
    {
     "data": {
      "text/plain": [
       "'sourav'"
      ]
     },
     "execution_count": 10,
     "metadata": {},
     "output_type": "execute_result"
    },
    {
     "data": {
      "text/plain": [
       "'sourav@gmail.com'"
      ]
     },
     "execution_count": 10,
     "metadata": {},
     "output_type": "execute_result"
    },
    {
     "data": {
      "text/plain": [
       "2"
      ]
     },
     "execution_count": 10,
     "metadata": {},
     "output_type": "execute_result"
    },
    {
     "name": "stdout",
     "output_type": "stream",
     "text": [
      "name is sourav and email is sourav@gmail.com and mobile number is 2\n",
      "**************************************************\n"
     ]
    },
    {
     "data": {
      "text/plain": [
       "3"
      ]
     },
     "execution_count": 10,
     "metadata": {},
     "output_type": "execute_result"
    },
    {
     "name": "stdout",
     "output_type": "stream",
     "text": [
      "name is sourav and email is sourav@gmail.com and mobile number is 3\n",
      "**************************************************\n"
     ]
    },
    {
     "data": {
      "text/plain": [
       "4"
      ]
     },
     "execution_count": 10,
     "metadata": {},
     "output_type": "execute_result"
    },
    {
     "name": "stdout",
     "output_type": "stream",
     "text": [
      "name is sourav and email is sourav@gmail.com and mobile number is 4\n"
     ]
    }
   ],
   "source": [
    "# obj1 = pwskills1(\"siddharth\", \"smaity@gmail.com\")\n",
    "obj1 = pwskills2.student_details_class(\"sourav\", \"sourav@gmail.com\")\n",
    "obj1.name\n",
    "obj1.email\n",
    "obj1.mobile_number\n",
    "obj1.student_details()\n",
    "print(\"*\"*50)\n",
    "\n",
    "obj1.change_number(3)\n",
    "obj1.mobile_number\n",
    "obj1.student_details()\n",
    "print(\"*\"*50)\n",
    "\n",
    "obj1.change_number(4)\n",
    "obj1.mobile_number\n",
    "obj1.student_details()"
   ]
  },
  {
   "cell_type": "code",
   "execution_count": 11,
   "metadata": {},
   "outputs": [
    {
     "name": "stdout",
     "output_type": "stream",
     "text": [
      "course details data science masters\n"
     ]
    }
   ],
   "source": [
    "class pwskills3:\n",
    "    \n",
    "    mobile_number = 0\n",
    "    \n",
    "    def __init__(self, name , email):\n",
    "        \n",
    "        self.name = name\n",
    "        self.email = email\n",
    "    \n",
    "    @classmethod\n",
    "    def change_number(cls, mobile):\n",
    "        pwskills2.mobile_number = mobile\n",
    "    \n",
    "    @classmethod\n",
    "    def details(cls , name1 , email1):\n",
    "        return cls(name1 , email1)\n",
    "    \n",
    "    def student_details(self):\n",
    "        print(self.name , self.email,pwskills2.mobile_number)\n",
    "        \n",
    "def course_details(cls ,course_name ):\n",
    "    print(\"course details\" , course_name)\n",
    "    \n",
    "pwskills3.course_details = classmethod(course_details)\n",
    "pwskills3.course_details(\"data science masters\")\n"
   ]
  },
  {
   "cell_type": "code",
   "execution_count": 12,
   "metadata": {},
   "outputs": [
    {
     "data": {
      "text/plain": [
       "'siddharth'"
      ]
     },
     "execution_count": 12,
     "metadata": {},
     "output_type": "execute_result"
    },
    {
     "data": {
      "text/plain": [
       "'smaity@gmail.com'"
      ]
     },
     "execution_count": 12,
     "metadata": {},
     "output_type": "execute_result"
    },
    {
     "data": {
      "text/plain": [
       "0"
      ]
     },
     "execution_count": 12,
     "metadata": {},
     "output_type": "execute_result"
    },
    {
     "name": "stdout",
     "output_type": "stream",
     "text": [
      "siddharth smaity@gmail.com 4\n",
      "course details web development\n",
      "**************************************************\n"
     ]
    }
   ],
   "source": [
    "obj1 = pwskills3(\"siddharth\", \"smaity@gmail.com\")\n",
    "#obj1 = pwskills2.student_details_class(\"sourav\", \"sourav@gmail.com\")\n",
    "obj1.name\n",
    "obj1.email\n",
    "obj1.mobile_number\n",
    "obj1.student_details()\n",
    "obj1.course_details(\"web development\")\n",
    "print(\"*\"*50)\n"
   ]
  },
  {
   "cell_type": "code",
   "execution_count": 13,
   "metadata": {},
   "outputs": [
    {
     "name": "stdout",
     "output_type": "stream",
     "text": [
      "error is type object 'pwskills4' has no attribute 'change_number'\n",
      "error is type object 'pwskills4' has no attribute 'details'\n",
      "error is type object 'pwskills4' has no attribute 'student_details'\n"
     ]
    }
   ],
   "source": [
    "class pwskills4:\n",
    "    \n",
    "    mobile_number = 9134534535\n",
    "    \n",
    "    def __init__(self, name , email):\n",
    "        \n",
    "        self.name = name\n",
    "        self.email = email\n",
    "    \n",
    "    @classmethod\n",
    "    def change_number(cls, mobile):\n",
    "        pwskills2.mobile_number = mobile\n",
    "    \n",
    "    @classmethod\n",
    "    def details(cls , name1 , email1):\n",
    "        return cls(name1 , email1)\n",
    "    \n",
    "    def student_details(self):\n",
    "        print(self.name , self.email,pwskills2.mobile_number)\n",
    "        \n",
    "del pwskills4.change_number # delete the class method\n",
    "delattr(pwskills4, \"details\") # delete the class attribute\n",
    "delattr(pwskills4, \"student_details\") # delete the class attribute\n",
    "\n",
    "try:\n",
    "    pwskills4.change_number(1234567890)\n",
    "except Exception as e:\n",
    "    print(\"error is {}\".format(e))\n",
    "    \n",
    "try:\n",
    "    pwskills4.details()\n",
    "except Exception as e:\n",
    "    print(\"error is {}\".format(e))\n",
    "    \n",
    "try:\n",
    "    pwskills4.student_details()\n",
    "except Exception as e:\n",
    "    print(\"error is {}\".format(e))\n"
   ]
  },
  {
   "cell_type": "markdown",
   "metadata": {},
   "source": [
    "# **<font color='forestgreen' face=\"Georgia\" size=\"5\">Static Method**</font>"
   ]
  },
  {
   "cell_type": "code",
   "execution_count": 14,
   "metadata": {},
   "outputs": [
    {
     "name": "stdout",
     "output_type": "stream",
     "text": [
      "sudh sudh@gmail.com 91345353\n"
     ]
    }
   ],
   "source": [
    "class pwskills:\n",
    "    def student_details(self , name , mail_id , number) : \n",
    "        print(name , mail_id, number)\n",
    "        \n",
    "pw = pwskills()\n",
    "pw.student_details(\"sudh\" , \"sudh@gmail.com\" , 91345353)"
   ]
  },
  {
   "cell_type": "code",
   "execution_count": 15,
   "metadata": {},
   "outputs": [
    {
     "name": "stdout",
     "output_type": "stream",
     "text": [
      "['a', 'b']\n",
      "['c', 'd']\n",
      "['e', 'f']\n"
     ]
    }
   ],
   "source": [
    "class pwskills1:\n",
    "    def student_details(self , name , mail_id , number) : \n",
    "        print(name , mail_id, number)\n",
    "        \n",
    "    @staticmethod\n",
    "    def mentor_class(list_mentor) : \n",
    "        print(list_mentor)\n",
    "        \n",
    "    def mentor(self , mentor_list) :\n",
    "        print(mentor_list)\n",
    "        \n",
    "pw1 = pwskills1()\n",
    "pw1.mentor([\"a\" , \"b\"])\n",
    "\n",
    "pw1.mentor_class([\"c\" , \"d\"])\n",
    "pwskills1.mentor_class([\"e\" , \"f\"])"
   ]
  },
  {
   "cell_type": "code",
   "execution_count": 16,
   "metadata": {},
   "outputs": [
    {
     "name": "stdout",
     "output_type": "stream",
     "text": [
      "mohan mohan@gmail.com 9675657657\n",
      "**************************************************\n",
      "['a', 'b']\n",
      "**************************************************\n",
      "['sudh1', 'krish1']\n",
      "['x', 'y']\n",
      "**************************************************\n",
      "['c', 'd']\n"
     ]
    }
   ],
   "source": [
    "class pwskills1:\n",
    "    def student_details(self , name , mail_id , number) : \n",
    "        print(name , mail_id, number)\n",
    "        \n",
    "    @staticmethod\n",
    "    def mentor_mail_id(mail_id):\n",
    "        print(mail_id)\n",
    "        \n",
    "    @staticmethod\n",
    "    def mentor_class(list_mentor) : \n",
    "        print(list_mentor)\n",
    "        pwskills1.mentor_mail_id([\"x\" , \"y\"])\n",
    "        \n",
    "    @classmethod\n",
    "    def class_name(cls,class_name):\n",
    "        cls.mentor_class([\"sudh1\" , \"krish1\"])\n",
    "        \n",
    "    def mentor(self , mentor_list) :\n",
    "        print(mentor_list)\n",
    "        self.mentor_class([\"sudh2\" , \"krish2\"])\n",
    "        \n",
    "pw1 = pwskills1()\n",
    "pw1.student_details(\"mohan\" , \"mohan@gmail.com\" , 9675657657)\n",
    "print(\"*\"*50)\n",
    "pw1.mentor_mail_id([\"a\" , \"b\"])\n",
    "print(\"*\"*50)\n",
    "pw1.class_name(\"data science masters\")\n",
    "print(\"*\"*50)\n",
    "pw1.mentor_mail_id([\"c\" , \"d\"])"
   ]
  },
  {
   "cell_type": "markdown",
   "metadata": {},
   "source": [
    "# **<font color='forestgreen' face=\"Georgia\" size=\"5\">Special (Magic/Dunder) Methods**</font>"
   ]
  },
  {
   "cell_type": "code",
   "execution_count": 17,
   "metadata": {},
   "outputs": [
    {
     "name": "stdout",
     "output_type": "stream",
     "text": [
      "__abs__\n",
      "__add__\n",
      "__and__\n",
      "__bool__\n",
      "__ceil__\n",
      "__class__\n",
      "__delattr__\n",
      "__dir__\n",
      "__divmod__\n",
      "__doc__\n",
      "__eq__\n",
      "__float__\n",
      "__floor__\n",
      "__floordiv__\n",
      "__format__\n",
      "__ge__\n",
      "__getattribute__\n",
      "__getnewargs__\n",
      "__getstate__\n",
      "__gt__\n",
      "__hash__\n",
      "__index__\n",
      "__init__\n",
      "__init_subclass__\n",
      "__int__\n",
      "__invert__\n",
      "__le__\n",
      "__lshift__\n",
      "__lt__\n",
      "__mod__\n",
      "__mul__\n",
      "__ne__\n",
      "__neg__\n",
      "__new__\n",
      "__or__\n",
      "__pos__\n",
      "__pow__\n",
      "__radd__\n",
      "__rand__\n",
      "__rdivmod__\n",
      "__reduce__\n",
      "__reduce_ex__\n",
      "__repr__\n",
      "__rfloordiv__\n",
      "__rlshift__\n",
      "__rmod__\n",
      "__rmul__\n",
      "__ror__\n",
      "__round__\n",
      "__rpow__\n",
      "__rrshift__\n",
      "__rshift__\n",
      "__rsub__\n",
      "__rtruediv__\n",
      "__rxor__\n",
      "__setattr__\n",
      "__sizeof__\n",
      "__str__\n",
      "__sub__\n",
      "__subclasshook__\n",
      "__truediv__\n",
      "__trunc__\n",
      "__xor__\n",
      "as_integer_ratio\n",
      "bit_count\n",
      "bit_length\n",
      "conjugate\n",
      "denominator\n",
      "from_bytes\n",
      "imag\n",
      "numerator\n",
      "real\n",
      "to_bytes\n"
     ]
    }
   ],
   "source": [
    "for i in dir(int):\n",
    "    print(i)"
   ]
  },
  {
   "cell_type": "code",
   "execution_count": 18,
   "metadata": {},
   "outputs": [
    {
     "data": {
      "text/plain": [
       "16"
      ]
     },
     "execution_count": 18,
     "metadata": {},
     "output_type": "execute_result"
    },
    {
     "data": {
      "text/plain": [
       "16"
      ]
     },
     "execution_count": 18,
     "metadata": {},
     "output_type": "execute_result"
    }
   ],
   "source": [
    "a = 10\n",
    "a+6\n",
    "a.__add__(6)"
   ]
  },
  {
   "cell_type": "code",
   "execution_count": 19,
   "metadata": {},
   "outputs": [
    {
     "name": "stdout",
     "output_type": "stream",
     "text": [
      "__add__\n",
      "__class__\n",
      "__contains__\n",
      "__delattr__\n",
      "__dir__\n",
      "__doc__\n",
      "__eq__\n",
      "__format__\n",
      "__ge__\n",
      "__getattribute__\n",
      "__getitem__\n",
      "__getnewargs__\n",
      "__getstate__\n",
      "__gt__\n",
      "__hash__\n",
      "__init__\n",
      "__init_subclass__\n",
      "__iter__\n",
      "__le__\n",
      "__len__\n",
      "__lt__\n",
      "__mod__\n",
      "__mul__\n",
      "__ne__\n",
      "__new__\n",
      "__reduce__\n",
      "__reduce_ex__\n",
      "__repr__\n",
      "__rmod__\n",
      "__rmul__\n",
      "__setattr__\n",
      "__sizeof__\n",
      "__str__\n",
      "__subclasshook__\n",
      "capitalize\n",
      "casefold\n",
      "center\n",
      "count\n",
      "encode\n",
      "endswith\n",
      "expandtabs\n",
      "find\n",
      "format\n",
      "format_map\n",
      "index\n",
      "isalnum\n",
      "isalpha\n",
      "isascii\n",
      "isdecimal\n",
      "isdigit\n",
      "isidentifier\n",
      "islower\n",
      "isnumeric\n",
      "isprintable\n",
      "isspace\n",
      "istitle\n",
      "isupper\n",
      "join\n",
      "ljust\n",
      "lower\n",
      "lstrip\n",
      "maketrans\n",
      "partition\n",
      "removeprefix\n",
      "removesuffix\n",
      "replace\n",
      "rfind\n",
      "rindex\n",
      "rjust\n",
      "rpartition\n",
      "rsplit\n",
      "rstrip\n",
      "split\n",
      "splitlines\n",
      "startswith\n",
      "strip\n",
      "swapcase\n",
      "title\n",
      "translate\n",
      "upper\n",
      "zfill\n"
     ]
    }
   ],
   "source": [
    "for i in dir(str):\n",
    "    print(i)"
   ]
  },
  {
   "cell_type": "code",
   "execution_count": 20,
   "metadata": {},
   "outputs": [
    {
     "name": "stdout",
     "output_type": "stream",
     "text": [
      "this is init\n"
     ]
    }
   ],
   "source": [
    "class pwskills:\n",
    "    def __init__(self, name, email):\n",
    "        self.name = name\n",
    "        self.email = email\n",
    "        print(\"this is init\")\n",
    "        \n",
    "    def student_details(self):\n",
    "        print(\"name is {} and email is {}\".format(self.name, self.email))\n",
    "\n",
    "obj1 = pwskills(\"a\", \"b\")"
   ]
  },
  {
   "cell_type": "code",
   "execution_count": 21,
   "metadata": {},
   "outputs": [
    {
     "name": "stdout",
     "output_type": "stream",
     "text": [
      "this is new\n"
     ]
    }
   ],
   "source": [
    "class pwskills:\n",
    "    def __new__(cls):\n",
    "        print(\"this is new\")\n",
    "    \n",
    "    def __init__(self):\n",
    "        print(\"this is my init\")   \n",
    "    \n",
    "obj1 = pwskills()"
   ]
  },
  {
   "cell_type": "code",
   "execution_count": 22,
   "metadata": {},
   "outputs": [
    {
     "name": "stdout",
     "output_type": "stream",
     "text": [
      "<__main__.pwskills object at 0x000001EE5B6BB190>\n",
      "This is what gets printed when you print the object\n"
     ]
    }
   ],
   "source": [
    "class pwskills:\n",
    "    def __init__(self):\n",
    "        self.mobile_number = 934223424\n",
    "\n",
    "obj1 = pwskills()\n",
    "print(obj1)\n",
    "\n",
    "class pwskills:\n",
    "    def __init__(self):\n",
    "        self.mobile_number = 934223424\n",
    "    def __str__(self) : \n",
    "        return \"This is what gets printed when you print the object\"\n",
    "    \n",
    "obj1 = pwskills()\n",
    "print(obj1)"
   ]
  },
  {
   "cell_type": "code",
   "execution_count": 23,
   "metadata": {},
   "outputs": [
    {
     "name": "stdout",
     "output_type": "stream",
     "text": [
      "__class__\n",
      "__class_getitem__\n",
      "__contains__\n",
      "__delattr__\n",
      "__delitem__\n",
      "__dir__\n",
      "__doc__\n",
      "__eq__\n",
      "__format__\n",
      "__ge__\n",
      "__getattribute__\n",
      "__getitem__\n",
      "__getstate__\n",
      "__gt__\n",
      "__hash__\n",
      "__init__\n",
      "__init_subclass__\n",
      "__ior__\n",
      "__iter__\n",
      "__le__\n",
      "__len__\n",
      "__lt__\n",
      "__ne__\n",
      "__new__\n",
      "__or__\n",
      "__reduce__\n",
      "__reduce_ex__\n",
      "__repr__\n",
      "__reversed__\n",
      "__ror__\n",
      "__setattr__\n",
      "__setitem__\n",
      "__sizeof__\n",
      "__str__\n",
      "__subclasshook__\n",
      "clear\n",
      "copy\n",
      "fromkeys\n",
      "get\n",
      "items\n",
      "keys\n",
      "pop\n",
      "popitem\n",
      "setdefault\n",
      "update\n",
      "values\n"
     ]
    }
   ],
   "source": [
    "for i in dir(dict):\n",
    "    print(i)"
   ]
  },
  {
   "cell_type": "code",
   "execution_count": 24,
   "metadata": {},
   "outputs": [
    {
     "name": "stdout",
     "output_type": "stream",
     "text": [
      "__add__\n",
      "__class__\n",
      "__class_getitem__\n",
      "__contains__\n",
      "__delattr__\n",
      "__dir__\n",
      "__doc__\n",
      "__eq__\n",
      "__format__\n",
      "__ge__\n",
      "__getattribute__\n",
      "__getitem__\n",
      "__getnewargs__\n",
      "__getstate__\n",
      "__gt__\n",
      "__hash__\n",
      "__init__\n",
      "__init_subclass__\n",
      "__iter__\n",
      "__le__\n",
      "__len__\n",
      "__lt__\n",
      "__mul__\n",
      "__ne__\n",
      "__new__\n",
      "__reduce__\n",
      "__reduce_ex__\n",
      "__repr__\n",
      "__rmul__\n",
      "__setattr__\n",
      "__sizeof__\n",
      "__str__\n",
      "__subclasshook__\n",
      "count\n",
      "index\n"
     ]
    }
   ],
   "source": [
    "for i in dir(tuple):\n",
    "    print(i)"
   ]
  },
  {
   "cell_type": "markdown",
   "metadata": {},
   "source": [
    "# **<font color='forestgreen' face=\"Georgia\" size=\"5\">Property Decorators - Getters, Setters, And Deletes**</font>"
   ]
  },
  {
   "cell_type": "code",
   "execution_count": 25,
   "metadata": {},
   "outputs": [
    {
     "data": {
      "text/plain": [
       "'data science masters'"
      ]
     },
     "execution_count": 25,
     "metadata": {},
     "output_type": "execute_result"
    },
    {
     "data": {
      "text/plain": [
       "1000"
      ]
     },
     "execution_count": 25,
     "metadata": {},
     "output_type": "execute_result"
    }
   ],
   "source": [
    "class pwskills:\n",
    "    def __init__(self, course_price, course_name):\n",
    "        self.__course_price = course_price\n",
    "        self.course_name = course_name\n",
    "        \n",
    "obj1 = pwskills(1000, \"data science masters\")\n",
    "obj1.course_name\n",
    "obj1._pwskills__course_price # only way to access private variable"
   ]
  },
  {
   "cell_type": "code",
   "execution_count": 26,
   "metadata": {},
   "outputs": [
    {
     "data": {
      "text/plain": [
       "'data science masters'"
      ]
     },
     "execution_count": 26,
     "metadata": {},
     "output_type": "execute_result"
    },
    {
     "data": {
      "text/plain": [
       "1000"
      ]
     },
     "execution_count": 26,
     "metadata": {},
     "output_type": "execute_result"
    }
   ],
   "source": [
    "class pwskills:\n",
    "    def __init__(self, course_price, course_name):\n",
    "        self.__course_price = course_price\n",
    "        self.course_name = course_name\n",
    "        \n",
    "    # @property\n",
    "    def course_price_access(self):\n",
    "        return self.__course_price\n",
    "        \n",
    "obj1 = pwskills(1000, \"data science masters\")\n",
    "obj1.course_name\n",
    "obj1.course_price_access()"
   ]
  },
  {
   "cell_type": "code",
   "execution_count": 27,
   "metadata": {},
   "outputs": [
    {
     "data": {
      "text/plain": [
       "'data science masters'"
      ]
     },
     "execution_count": 27,
     "metadata": {},
     "output_type": "execute_result"
    },
    {
     "data": {
      "text/plain": [
       "1000"
      ]
     },
     "execution_count": 27,
     "metadata": {},
     "output_type": "execute_result"
    }
   ],
   "source": [
    "class pwskills:\n",
    "    def __init__(self, course_price, course_name):\n",
    "        self.__course_price = course_price\n",
    "        self.course_name = course_name\n",
    "        \n",
    "    @property\n",
    "    def course_price_access(self):\n",
    "        return self.__course_price\n",
    "        \n",
    "obj1 = pwskills(1000, \"data science masters\")\n",
    "obj1.course_name\n",
    "obj1.course_price_access"
   ]
  },
  {
   "cell_type": "code",
   "execution_count": 28,
   "metadata": {},
   "outputs": [
    {
     "data": {
      "text/plain": [
       "'data science masters'"
      ]
     },
     "execution_count": 28,
     "metadata": {},
     "output_type": "execute_result"
    },
    {
     "data": {
      "text/plain": [
       "1000"
      ]
     },
     "execution_count": 28,
     "metadata": {},
     "output_type": "execute_result"
    },
    {
     "data": {
      "text/plain": [
       "4000"
      ]
     },
     "execution_count": 28,
     "metadata": {},
     "output_type": "execute_result"
    }
   ],
   "source": [
    "class pwskills:\n",
    "    def __init__(self, course_price, course_name):\n",
    "        self.__course_price = course_price\n",
    "        self.course_name = course_name\n",
    "        \n",
    "    @property\n",
    "    def course_price_access(self):\n",
    "        return self.__course_price\n",
    "    \n",
    "    @course_price_access.setter # this allows you to set the value of the private variable\n",
    "    def course_price_set(self, user_price):\n",
    "        if user_price < 3500:\n",
    "            pass\n",
    "        else:\n",
    "            self.__course_price = user_price\n",
    "        \n",
    "obj1 = pwskills(1000, \"data science masters\")\n",
    "obj1.course_name\n",
    "obj1.course_price_access\n",
    "obj1.course_price_set = 4000\n",
    "obj1.course_price_access"
   ]
  },
  {
   "cell_type": "code",
   "execution_count": 29,
   "metadata": {},
   "outputs": [
    {
     "data": {
      "text/plain": [
       "'data science masters'"
      ]
     },
     "execution_count": 29,
     "metadata": {},
     "output_type": "execute_result"
    },
    {
     "data": {
      "text/plain": [
       "1000"
      ]
     },
     "execution_count": 29,
     "metadata": {},
     "output_type": "execute_result"
    },
    {
     "data": {
      "text/plain": [
       "4000"
      ]
     },
     "execution_count": 29,
     "metadata": {},
     "output_type": "execute_result"
    },
    {
     "name": "stdout",
     "output_type": "stream",
     "text": [
      "error is 'pwskills' object has no attribute '_pwskills__course_price'\n"
     ]
    }
   ],
   "source": [
    "class pwskills:\n",
    "    def __init__(self, course_price, course_name):\n",
    "        self.__course_price = course_price\n",
    "        self.course_name = course_name\n",
    "        \n",
    "    @property\n",
    "    def course_price_access(self):\n",
    "        return self.__course_price\n",
    "    \n",
    "    @course_price_access.setter # this allows you to set the value of the private variable\n",
    "    def course_price_set(self, user_price):\n",
    "        if user_price < 3500:\n",
    "            pass\n",
    "        else:\n",
    "            self.__course_price = user_price\n",
    "            \n",
    "    @course_price_access.deleter # this allows you to delete the value of the private variable\n",
    "    def course_price_delete(self):\n",
    "        del self.__course_price\n",
    "        \n",
    "obj1 = pwskills(1000, \"data science masters\")\n",
    "obj1.course_name\n",
    "obj1.course_price_access\n",
    "obj1.course_price_set = 4000\n",
    "obj1.course_price_access\n",
    "del obj1.course_price_delete\n",
    "try:\n",
    "    obj1.course_price_access\n",
    "except Exception as e:\n",
    "    print(\"error is {}\".format(e))"
   ]
  }
 ],
 "metadata": {
  "kernelspec": {
   "display_name": "env1_311",
   "language": "python",
   "name": "python3"
  },
  "language_info": {
   "codemirror_mode": {
    "name": "ipython",
    "version": 3
   },
   "file_extension": ".py",
   "mimetype": "text/x-python",
   "name": "python",
   "nbconvert_exporter": "python",
   "pygments_lexer": "ipython3",
   "version": "3.11.5"
  }
 },
 "nbformat": 4,
 "nbformat_minor": 2
}
