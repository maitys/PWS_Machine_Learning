{
 "cells": [
  {
   "cell_type": "markdown",
   "metadata": {},
   "source": [
    "# **<font color='white' face=\"Georgia\" size=\"6\">Feb 14 - Multithreading**</font>"
   ]
  },
  {
   "cell_type": "code",
   "execution_count": 1,
   "metadata": {},
   "outputs": [],
   "source": [
    "#To show multiple outputs and misc. changes\n",
    "from IPython.core.interactiveshell import InteractiveShell\n",
    "InteractiveShell.ast_node_interactivity = \"all\" # Show all results without print (last_expr)"
   ]
  },
  {
   "cell_type": "markdown",
   "metadata": {},
   "source": [
    "# **<font color='forestgreen' face=\"Georgia\" size=\"5\">Multithreading**</font>"
   ]
  },
  {
   "cell_type": "code",
   "execution_count": 2,
   "metadata": {},
   "outputs": [
    {
     "name": "stdout",
     "output_type": "stream",
     "text": [
      "My TEST ID is: 10\n",
      "My TEST ID is: 1\n",
      "My TEST ID is: 3\n"
     ]
    }
   ],
   "source": [
    "import threading\n",
    "def test(id) :\n",
    "    print(\"My TEST ID is: {}\".format(id))\n",
    "    \n",
    "test(10)\n",
    "test(1)\n",
    "test(3)"
   ]
  },
  {
   "cell_type": "code",
   "execution_count": 3,
   "metadata": {},
   "outputs": [
    {
     "data": {
      "text/plain": [
       "[<Thread(Thread-5 (test), initial)>,\n",
       " <Thread(Thread-6 (test), initial)>,\n",
       " <Thread(Thread-7 (test), initial)>]"
      ]
     },
     "execution_count": 3,
     "metadata": {},
     "output_type": "execute_result"
    },
    {
     "name": "stdout",
     "output_type": "stream",
     "text": [
      "**************************************************\n",
      "My TEST ID is: 10\n",
      "My TEST ID is: 1\n",
      "My TEST ID is: 3\n"
     ]
    }
   ],
   "source": [
    "# Now using threading. This allows to run multiple functions at the same time\n",
    "my_thread = [threading.Thread(target=test , args = (i,)) for i in [10 , 1 ,3]]\n",
    "my_thread\n",
    "print(\"*\"*50)\n",
    "\n",
    "for i in my_thread:\n",
    "    i.start()"
   ]
  },
  {
   "cell_type": "code",
   "execution_count": 4,
   "metadata": {},
   "outputs": [],
   "source": [
    "import urllib.request\n",
    "\n",
    "def file_download(url , filename):\n",
    "    urllib.request.urlretrieve(url , filename)\n",
    "    \n",
    "file_download(url='https://raw.githubusercontent.com/itsfoss/text-files/master/agatha.txt',\n",
    "              filename = r'./rough/test12.txt')"
   ]
  },
  {
   "cell_type": "code",
   "execution_count": 5,
   "metadata": {},
   "outputs": [
    {
     "data": {
      "text/plain": [
       "[<Thread(Thread-8 (file_download), initial)>,\n",
       " <Thread(Thread-9 (file_download), initial)>,\n",
       " <Thread(Thread-10 (file_download), initial)>]"
      ]
     },
     "execution_count": 5,
     "metadata": {},
     "output_type": "execute_result"
    },
    {
     "name": "stdout",
     "output_type": "stream",
     "text": [
      "**************************************************\n"
     ]
    },
    {
     "data": {
      "text/plain": [
       "[<Thread(Thread-8 (file_download), started 12584)>,\n",
       " <Thread(Thread-9 (file_download), started 2752)>,\n",
       " <Thread(Thread-10 (file_download), started 1728)>]"
      ]
     },
     "execution_count": 5,
     "metadata": {},
     "output_type": "execute_result"
    }
   ],
   "source": [
    "url_list = ['https://raw.githubusercontent.com/itsfoss/text-files/master/agatha.txt', \n",
    "            'https://raw.githubusercontent.com/itsfoss/text-files/master/sherlock.txt',\n",
    "            'https://raw.githubusercontent.com/itsfoss/text-files/master/sample_log_file.txt']\n",
    "\n",
    "data_file_list = [r'./rough/test13.txt' , r'./rough/test14.txt' , r'./rough/test15.txt']\n",
    "\n",
    "my_thread = [threading.Thread(target=file_download, \n",
    "                              args = (url_list[i], data_file_list[i])) for i in range(len(url_list))]\n",
    "\n",
    "my_thread\n",
    "print(\"*\"*50)\n",
    "\n",
    "for t in my_thread:\n",
    "    t.start()\n",
    "\n",
    "my_thread"
   ]
  },
  {
   "cell_type": "code",
   "execution_count": 6,
   "metadata": {},
   "outputs": [
    {
     "name": "stdout",
     "output_type": "stream",
     "text": [
      "Thread 0: 0\n",
      "Thread 1: 0\n",
      "Thread 2: 0\n",
      "Thread 3: 0\n",
      "Thread 4: 0\n"
     ]
    }
   ],
   "source": [
    "import time\n",
    "\n",
    "def test(x):\n",
    "    for i in range(10):\n",
    "        print(\"Thread {}: {}\".format(x , i))\n",
    "        time.sleep(1)\n",
    "        \n",
    "my_thread1 = [threading.Thread(target=test, args = (i,)) for i in range(5)]\n",
    "\n",
    "for t in my_thread1:\n",
    "    t.start()"
   ]
  },
  {
   "cell_type": "code",
   "execution_count": 7,
   "metadata": {},
   "outputs": [
    {
     "name": "stdout",
     "output_type": "stream",
     "text": [
      "Thread 2: 0\n",
      "Thread 1: 1\n",
      "Thread 0: 1\n",
      "Thread 2: 1\n",
      "Thread 4: 1\n",
      "Thread 3: 1\n",
      "Thread 2: 1\n",
      "Thread 1: 2\n",
      "Thread 0: 2\n",
      "Thread 3: 2\n",
      "Thread 4: 2\n",
      "Thread 2: 2\n",
      "Thread 2: 2\n",
      "Thread 3: 3\n",
      "Thread 2: 3\n",
      "Thread 1: 3\n",
      "Thread 0: 3\n",
      "Thread 4: 3\n",
      "Thread 2: 3\n",
      "Thread 3: 4\n",
      "Thread 0: 4\n",
      "Thread 4: 4\n",
      "Thread 2: 4\n",
      "Thread 1: 4\n",
      "Thread 2: 4\n",
      "Thread 0: 5\n",
      "Thread 4: 5\n",
      "Thread 3: 5\n",
      "Thread 2: 5\n",
      "Thread 1: 5\n",
      "Thread 2: 5\n",
      "Thread 0: 6\n",
      "Thread 4: 6\n",
      "Thread 3: 6\n",
      "Thread 2: 6\n",
      "Thread 1: 6\n",
      "Thread 2: 6\n",
      "Thread 0: 7\n",
      "Thread 4: 7\n",
      "Thread 2: 7\n",
      "Thread 3: 7\n",
      "Thread 1: 7\n",
      "Thread 2: 7\n",
      "Thread 4: 8\n",
      "Thread 3: 8\n",
      "Thread 2: 8\n",
      "Thread 1: 8\n",
      "Thread 0: 8\n",
      "Thread 2: 8\n",
      "Thread 3: 9Thread 1: 9\n",
      "Thread 4: 9\n",
      "Thread 2: 9\n",
      "\n",
      "Thread 0: 9\n",
      "Thread 2: 9\n"
     ]
    }
   ],
   "source": [
    "test(2)"
   ]
  },
  {
   "cell_type": "code",
   "execution_count": 8,
   "metadata": {},
   "outputs": [
    {
     "name": "stdout",
     "output_type": "stream",
     "text": [
      "value of x 1 and value of shareed_var 1 \n"
     ]
    },
    {
     "name": "stdout",
     "output_type": "stream",
     "text": [
      "value of x 2 and value of shareed_var 2 \n",
      "value of x 3 and value of shareed_var 3 \n",
      "value of x 4 and value of shareed_var 4 \n",
      "value of x 4 and value of shareed_var 5 \n",
      "value of x 5 and value of shareed_var 6 \n"
     ]
    }
   ],
   "source": [
    "shared_var = 0 \n",
    "lock_var = threading.Lock()\n",
    "def test4(x) : \n",
    "    global shared_var\n",
    "    with lock_var : \n",
    "        shared_var = shared_var + 1\n",
    "        print(\"value of x %d and value of shareed_var %d \" %(x, shared_var))\n",
    "        time.sleep(1)\n",
    " \n",
    "thread5  = [threading.Thread(target=test4 , args = (i,)) for i in [1,2,3,4,4,5]]\n",
    "for t in thread5 : \n",
    "    t.start()"
   ]
  }
 ],
 "metadata": {
  "kernelspec": {
   "display_name": "env1_311",
   "language": "python",
   "name": "python3"
  },
  "language_info": {
   "codemirror_mode": {
    "name": "ipython",
    "version": 3
   },
   "file_extension": ".py",
   "mimetype": "text/x-python",
   "name": "python",
   "nbconvert_exporter": "python",
   "pygments_lexer": "ipython3",
   "version": "3.11.5"
  }
 },
 "nbformat": 4,
 "nbformat_minor": 2
}
